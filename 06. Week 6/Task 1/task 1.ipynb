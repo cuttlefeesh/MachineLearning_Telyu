{
 "cells": [
  {
   "cell_type": "code",
   "execution_count": 22,
   "id": "dd0a3333",
   "metadata": {},
   "outputs": [],
   "source": [
    "import pandas as pd\n",
    "import numpy as np\n",
    "import matplotlib.pyplot as plt\n",
    "import seaborn as sns\n",
    "\n",
    "from sklearn.cluster import KMeans, AgglomerativeClustering\n",
    "from sklearn.preprocessing import StandardScaler\n",
    "from sklearn.metrics import silhouette_score, calinski_harabasz_score, davies_bouldin_score\n",
    "\n",
    "from scipy.spatial.distance import pdist, squareform\n"
   ]
  },
  {
   "cell_type": "code",
   "execution_count": 15,
   "id": "56685d90",
   "metadata": {},
   "outputs": [
    {
     "data": {
      "application/vnd.microsoft.datawrangler.viewer.v0+json": {
       "columns": [
        {
         "name": "index",
         "rawType": "int64",
         "type": "integer"
        },
        {
         "name": "InvoiceNo",
         "rawType": "object",
         "type": "unknown"
        },
        {
         "name": "StockCode",
         "rawType": "object",
         "type": "unknown"
        },
        {
         "name": "Description",
         "rawType": "object",
         "type": "string"
        },
        {
         "name": "Quantity",
         "rawType": "int64",
         "type": "integer"
        },
        {
         "name": "InvoiceDate",
         "rawType": "datetime64[ns]",
         "type": "datetime"
        },
        {
         "name": "UnitPrice",
         "rawType": "float64",
         "type": "float"
        },
        {
         "name": "CustomerID",
         "rawType": "float64",
         "type": "float"
        },
        {
         "name": "Country",
         "rawType": "object",
         "type": "string"
        }
       ],
       "conversionMethod": "pd.DataFrame",
       "ref": "2f19bc7e-d071-4bf6-8821-8f6ef3d1bc49",
       "rows": [
        [
         "0",
         "536365",
         "85123A",
         "WHITE HANGING HEART T-LIGHT HOLDER",
         "6",
         "2010-12-01 08:26:00",
         "2.55",
         "17850.0",
         "United Kingdom"
        ],
        [
         "1",
         "536365",
         "71053",
         "WHITE METAL LANTERN",
         "6",
         "2010-12-01 08:26:00",
         "3.39",
         "17850.0",
         "United Kingdom"
        ],
        [
         "2",
         "536365",
         "84406B",
         "CREAM CUPID HEARTS COAT HANGER",
         "8",
         "2010-12-01 08:26:00",
         "2.75",
         "17850.0",
         "United Kingdom"
        ],
        [
         "3",
         "536365",
         "84029G",
         "KNITTED UNION FLAG HOT WATER BOTTLE",
         "6",
         "2010-12-01 08:26:00",
         "3.39",
         "17850.0",
         "United Kingdom"
        ],
        [
         "4",
         "536365",
         "84029E",
         "RED WOOLLY HOTTIE WHITE HEART.",
         "6",
         "2010-12-01 08:26:00",
         "3.39",
         "17850.0",
         "United Kingdom"
        ]
       ],
       "shape": {
        "columns": 8,
        "rows": 5
       }
      },
      "text/html": [
       "<div>\n",
       "<style scoped>\n",
       "    .dataframe tbody tr th:only-of-type {\n",
       "        vertical-align: middle;\n",
       "    }\n",
       "\n",
       "    .dataframe tbody tr th {\n",
       "        vertical-align: top;\n",
       "    }\n",
       "\n",
       "    .dataframe thead th {\n",
       "        text-align: right;\n",
       "    }\n",
       "</style>\n",
       "<table border=\"1\" class=\"dataframe\">\n",
       "  <thead>\n",
       "    <tr style=\"text-align: right;\">\n",
       "      <th></th>\n",
       "      <th>InvoiceNo</th>\n",
       "      <th>StockCode</th>\n",
       "      <th>Description</th>\n",
       "      <th>Quantity</th>\n",
       "      <th>InvoiceDate</th>\n",
       "      <th>UnitPrice</th>\n",
       "      <th>CustomerID</th>\n",
       "      <th>Country</th>\n",
       "    </tr>\n",
       "  </thead>\n",
       "  <tbody>\n",
       "    <tr>\n",
       "      <th>0</th>\n",
       "      <td>536365</td>\n",
       "      <td>85123A</td>\n",
       "      <td>WHITE HANGING HEART T-LIGHT HOLDER</td>\n",
       "      <td>6</td>\n",
       "      <td>2010-12-01 08:26:00</td>\n",
       "      <td>2.55</td>\n",
       "      <td>17850.0</td>\n",
       "      <td>United Kingdom</td>\n",
       "    </tr>\n",
       "    <tr>\n",
       "      <th>1</th>\n",
       "      <td>536365</td>\n",
       "      <td>71053</td>\n",
       "      <td>WHITE METAL LANTERN</td>\n",
       "      <td>6</td>\n",
       "      <td>2010-12-01 08:26:00</td>\n",
       "      <td>3.39</td>\n",
       "      <td>17850.0</td>\n",
       "      <td>United Kingdom</td>\n",
       "    </tr>\n",
       "    <tr>\n",
       "      <th>2</th>\n",
       "      <td>536365</td>\n",
       "      <td>84406B</td>\n",
       "      <td>CREAM CUPID HEARTS COAT HANGER</td>\n",
       "      <td>8</td>\n",
       "      <td>2010-12-01 08:26:00</td>\n",
       "      <td>2.75</td>\n",
       "      <td>17850.0</td>\n",
       "      <td>United Kingdom</td>\n",
       "    </tr>\n",
       "    <tr>\n",
       "      <th>3</th>\n",
       "      <td>536365</td>\n",
       "      <td>84029G</td>\n",
       "      <td>KNITTED UNION FLAG HOT WATER BOTTLE</td>\n",
       "      <td>6</td>\n",
       "      <td>2010-12-01 08:26:00</td>\n",
       "      <td>3.39</td>\n",
       "      <td>17850.0</td>\n",
       "      <td>United Kingdom</td>\n",
       "    </tr>\n",
       "    <tr>\n",
       "      <th>4</th>\n",
       "      <td>536365</td>\n",
       "      <td>84029E</td>\n",
       "      <td>RED WOOLLY HOTTIE WHITE HEART.</td>\n",
       "      <td>6</td>\n",
       "      <td>2010-12-01 08:26:00</td>\n",
       "      <td>3.39</td>\n",
       "      <td>17850.0</td>\n",
       "      <td>United Kingdom</td>\n",
       "    </tr>\n",
       "  </tbody>\n",
       "</table>\n",
       "</div>"
      ],
      "text/plain": [
       "  InvoiceNo StockCode                          Description  Quantity  \\\n",
       "0    536365    85123A   WHITE HANGING HEART T-LIGHT HOLDER         6   \n",
       "1    536365     71053                  WHITE METAL LANTERN         6   \n",
       "2    536365    84406B       CREAM CUPID HEARTS COAT HANGER         8   \n",
       "3    536365    84029G  KNITTED UNION FLAG HOT WATER BOTTLE         6   \n",
       "4    536365    84029E       RED WOOLLY HOTTIE WHITE HEART.         6   \n",
       "\n",
       "          InvoiceDate  UnitPrice  CustomerID         Country  \n",
       "0 2010-12-01 08:26:00       2.55     17850.0  United Kingdom  \n",
       "1 2010-12-01 08:26:00       3.39     17850.0  United Kingdom  \n",
       "2 2010-12-01 08:26:00       2.75     17850.0  United Kingdom  \n",
       "3 2010-12-01 08:26:00       3.39     17850.0  United Kingdom  \n",
       "4 2010-12-01 08:26:00       3.39     17850.0  United Kingdom  "
      ]
     },
     "execution_count": 15,
     "metadata": {},
     "output_type": "execute_result"
    }
   ],
   "source": [
    "df = pd.read_excel(\"Online Retail.xlsx\")\n",
    "df.head()"
   ]
  },
  {
   "cell_type": "code",
   "execution_count": 16,
   "id": "ec4a3a2a",
   "metadata": {},
   "outputs": [
    {
     "name": "stdout",
     "output_type": "stream",
     "text": [
      "<class 'pandas.core.frame.DataFrame'>\n",
      "RangeIndex: 541909 entries, 0 to 541908\n",
      "Data columns (total 8 columns):\n",
      " #   Column       Non-Null Count   Dtype         \n",
      "---  ------       --------------   -----         \n",
      " 0   InvoiceNo    541909 non-null  object        \n",
      " 1   StockCode    541909 non-null  object        \n",
      " 2   Description  540455 non-null  object        \n",
      " 3   Quantity     541909 non-null  int64         \n",
      " 4   InvoiceDate  541909 non-null  datetime64[ns]\n",
      " 5   UnitPrice    541909 non-null  float64       \n",
      " 6   CustomerID   406829 non-null  float64       \n",
      " 7   Country      541909 non-null  object        \n",
      "dtypes: datetime64[ns](1), float64(2), int64(1), object(4)\n",
      "memory usage: 33.1+ MB\n"
     ]
    }
   ],
   "source": [
    "df.info()"
   ]
  },
  {
   "cell_type": "code",
   "execution_count": 17,
   "id": "f55ed9e4",
   "metadata": {},
   "outputs": [
    {
     "name": "stdout",
     "output_type": "stream",
     "text": [
      "<class 'pandas.core.frame.DataFrame'>\n",
      "Index: 406829 entries, 0 to 541908\n",
      "Data columns (total 8 columns):\n",
      " #   Column       Non-Null Count   Dtype         \n",
      "---  ------       --------------   -----         \n",
      " 0   InvoiceNo    406829 non-null  object        \n",
      " 1   StockCode    406829 non-null  object        \n",
      " 2   Description  406829 non-null  object        \n",
      " 3   Quantity     406829 non-null  int64         \n",
      " 4   InvoiceDate  406829 non-null  datetime64[ns]\n",
      " 5   UnitPrice    406829 non-null  float64       \n",
      " 6   CustomerID   406829 non-null  float64       \n",
      " 7   Country      406829 non-null  object        \n",
      "dtypes: datetime64[ns](1), float64(2), int64(1), object(4)\n",
      "memory usage: 27.9+ MB\n"
     ]
    }
   ],
   "source": [
    "df = df.dropna()\n",
    "df.info()"
   ]
  },
  {
   "cell_type": "code",
   "execution_count": 23,
   "id": "3879ffe3",
   "metadata": {},
   "outputs": [],
   "source": [
    "# Drop missing CustomerID\n",
    "retail = df.dropna(subset=['CustomerID'])\n",
    "\n",
    "# Add TotalPrice column manually\n",
    "retail['TotalPrice'] = retail['Quantity'] * retail['UnitPrice']\n",
    "\n",
    "# Feature Engineering: recency, frequency, monetary (RFM)\n",
    "rfm = retail.groupby('CustomerID').agg({\n",
    "    'InvoiceDate': lambda x: (retail['InvoiceDate'].max() - x.max()).days,\n",
    "    'InvoiceNo': 'nunique',\n",
    "    'TotalPrice': 'sum'\n",
    "})\n",
    "rfm.columns = ['Recency', 'Frequency', 'Monetary']"
   ]
  },
  {
   "cell_type": "code",
   "execution_count": 24,
   "id": "148d88d8",
   "metadata": {},
   "outputs": [],
   "source": [
    "# Normalizing the data\n",
    "scaler = StandardScaler()\n",
    "rfm_scaled = scaler.fit_transform(rfm)"
   ]
  },
  {
   "cell_type": "code",
   "execution_count": 25,
   "id": "d11ea945",
   "metadata": {},
   "outputs": [
    {
     "data": {
      "image/png": "[encoded data removed]",
      "text/plain": [
       "<Figure size 640x480 with 1 Axes>"
      ]
     },
     "metadata": {},
     "output_type": "display_data"
    }
   ],
   "source": [
    "# 1. Elbow Method - To determine the optimal number of clusters for KMeans\n",
    "# Using KMeans clustering with different numbers of clusters\n",
    "wcss = []\n",
    "k_range = range(2, 11)\n",
    "\n",
    "for k in k_range:\n",
    "    kmeans = KMeans(n_clusters=k, random_state=42)\n",
    "    kmeans.fit(rfm_scaled)\n",
    "    wcss.append(kmeans.inertia_)\n",
    "\n",
    "plt.plot(k_range, wcss, 'bo-')\n",
    "plt.xlabel('Number of clusters (k)')\n",
    "plt.ylabel('WCSS (Inertia)')\n",
    "plt.title('Elbow Method For Optimal k')\n",
    "plt.show()"
   ]
  },
  {
   "cell_type": "code",
   "execution_count": 41,
   "id": "7716bda3",
   "metadata": {},
   "outputs": [],
   "source": [
    "# 2. Fit KMeans & Agglomerative Clustering with chosen k (e.g., 4)\n",
    "k_optimal = 4\n",
    "\n",
    "kmeans = KMeans(n_clusters=k_optimal, random_state=42)\n",
    "rfm['Cluster_KMeans'] = kmeans.fit_predict(rfm_scaled)\n",
    "\n",
    "agglo = AgglomerativeClustering(n_clusters=k_optimal)\n",
    "rfm['Cluster_Agglomerative'] = agglo.fit_predict(rfm_scaled)\n"
   ]
  },
  {
   "cell_type": "code",
   "execution_count": 42,
   "id": "69352be5",
   "metadata": {},
   "outputs": [],
   "source": [
    "# 3. Metrics Evaluation\n",
    "def dunn_index(X, labels):\n",
    "    distances = squareform(pdist(X))\n",
    "    unique_clusters = np.unique(labels)\n",
    "\n",
    "    intra_dists = []\n",
    "    for c in unique_clusters:\n",
    "        intra = distances[np.ix_(labels == c, labels == c)]\n",
    "        if intra.shape[0] > 1:\n",
    "            intra_dists.append(np.max(intra))\n",
    "    max_intra_dist = np.max(intra_dists)\n",
    "\n",
    "    inter_dists = []\n",
    "    for i in range(len(unique_clusters)):\n",
    "        for j in range(i+1, len(unique_clusters)):\n",
    "            inter = distances[np.ix_(labels == unique_clusters[i], labels == unique_clusters[j])]\n",
    "            inter_dists.append(np.min(inter))\n",
    "    min_inter_dist = np.min(inter_dists)\n",
    "\n",
    "    return min_inter_dist / max_intra_dist"
   ]
  },
  {
   "cell_type": "code",
   "execution_count": 43,
   "id": "f74d09cd",
   "metadata": {},
   "outputs": [
    {
     "data": {
      "application/vnd.microsoft.datawrangler.viewer.v0+json": {
       "columns": [
        {
         "name": "index",
         "rawType": "object",
         "type": "string"
        },
        {
         "name": "Silhouette Score",
         "rawType": "float64",
         "type": "float"
        },
        {
         "name": "Calinski-Harabasz Index",
         "rawType": "float64",
         "type": "float"
        },
        {
         "name": "Davies-Bouldin Index",
         "rawType": "float64",
         "type": "float"
        },
        {
         "name": "Dunn Index",
         "rawType": "float64",
         "type": "float"
        }
       ],
       "conversionMethod": "pd.DataFrame",
       "ref": "6d3ebdd1-39c3-4133-9f3c-fca0c82360d6",
       "rows": [
        [
         "KMeans",
         "0.6142804196098184",
         "3222.798251343057",
         "0.7440383620906693",
         "0.000580569041129691"
        ],
        [
         "Agglomerative",
         "0.5893128716450821",
         "2908.521543425671",
         "0.5936536389709752",
         "0.0007368110580090037"
        ]
       ],
       "shape": {
        "columns": 4,
        "rows": 2
       }
      },
      "text/html": [
       "<div>\n",
       "<style scoped>\n",
       "    .dataframe tbody tr th:only-of-type {\n",
       "        vertical-align: middle;\n",
       "    }\n",
       "\n",
       "    .dataframe tbody tr th {\n",
       "        vertical-align: top;\n",
       "    }\n",
       "\n",
       "    .dataframe thead th {\n",
       "        text-align: right;\n",
       "    }\n",
       "</style>\n",
       "<table border=\"1\" class=\"dataframe\">\n",
       "  <thead>\n",
       "    <tr style=\"text-align: right;\">\n",
       "      <th></th>\n",
       "      <th>Silhouette Score</th>\n",
       "      <th>Calinski-Harabasz Index</th>\n",
       "      <th>Davies-Bouldin Index</th>\n",
       "      <th>Dunn Index</th>\n",
       "    </tr>\n",
       "  </thead>\n",
       "  <tbody>\n",
       "    <tr>\n",
       "      <th>KMeans</th>\n",
       "      <td>0.614280</td>\n",
       "      <td>3222.798251</td>\n",
       "      <td>0.744038</td>\n",
       "      <td>0.000581</td>\n",
       "    </tr>\n",
       "    <tr>\n",
       "      <th>Agglomerative</th>\n",
       "      <td>0.589313</td>\n",
       "      <td>2908.521543</td>\n",
       "      <td>0.593654</td>\n",
       "      <td>0.000737</td>\n",
       "    </tr>\n",
       "  </tbody>\n",
       "</table>\n",
       "</div>"
      ],
      "text/plain": [
       "               Silhouette Score  Calinski-Harabasz Index  \\\n",
       "KMeans                 0.614280              3222.798251   \n",
       "Agglomerative          0.589313              2908.521543   \n",
       "\n",
       "               Davies-Bouldin Index  Dunn Index  \n",
       "KMeans                     0.744038    0.000581  \n",
       "Agglomerative              0.593654    0.000737  "
      ]
     },
     "execution_count": 43,
     "metadata": {},
     "output_type": "execute_result"
    }
   ],
   "source": [
    "models = ['KMeans', 'Agglomerative']\n",
    "scores = {}\n",
    "\n",
    "for model in models:\n",
    "    cluster_label = 'Cluster_' + model\n",
    "    labels = rfm[cluster_label]\n",
    "\n",
    "    silhouette = silhouette_score(rfm_scaled, labels)\n",
    "    calinski = calinski_harabasz_score(rfm_scaled, labels)\n",
    "    davies = davies_bouldin_score(rfm_scaled, labels)\n",
    "    dunn = dunn_index(rfm_scaled, labels)\n",
    "\n",
    "    scores[model] = {\n",
    "        'Silhouette Score': silhouette,\n",
    "        'Calinski-Harabasz Index': calinski,\n",
    "        'Davies-Bouldin Index': davies,\n",
    "        'Dunn Index': dunn\n",
    "    }\n",
    "\n",
    "scores_df = pd.DataFrame(scores).T\n",
    "scores_df\n"
   ]
  },
  {
   "cell_type": "code",
   "execution_count": 44,
   "id": "664852f3",
   "metadata": {},
   "outputs": [
    {
     "data": {
      "image/png": "[encoded data removed]",
      "text/plain": [
       "<Figure size 1200x500 with 2 Axes>"
      ]
     },
     "metadata": {},
     "output_type": "display_data"
    }
   ],
   "source": [
    "# 4. Visualization of Clustering Results\n",
    "\n",
    "from sklearn.decomposition import PCA\n",
    "\n",
    "# Reduce to 2 dimensions using PCA\n",
    "pca = PCA(n_components=2)\n",
    "rfm_pca = pca.fit_transform(rfm_scaled)\n",
    "rfm['PCA1'] = rfm_pca[:, 0]\n",
    "rfm['PCA2'] = rfm_pca[:, 1]\n",
    "\n",
    "# Plotting KMeans Clusters\n",
    "plt.figure(figsize=(12,5))\n",
    "\n",
    "plt.subplot(1,2,1)\n",
    "sns.scatterplot(\n",
    "    x='PCA1', y='PCA2',\n",
    "    hue='Cluster_KMeans',\n",
    "    palette='Set1',\n",
    "    data=rfm,\n",
    "    legend='full'\n",
    ")\n",
    "plt.title('KMeans Clustering Result (PCA Projection)')\n",
    "\n",
    "# Plotting Agglomerative Clusters\n",
    "plt.subplot(1,2,2)\n",
    "sns.scatterplot(\n",
    "    x='PCA1', y='PCA2',\n",
    "    hue='Cluster_Agglomerative',\n",
    "    palette='Set2',\n",
    "    data=rfm,\n",
    "    legend='full'\n",
    ")\n",
    "plt.title('Agglomerative Clustering Result (PCA Projection)')\n",
    "\n",
    "plt.tight_layout()\n",
    "plt.show()\n"
   ]
  },
  {
   "cell_type": "markdown",
   "id": "63632848",
   "metadata": {},
   "source": [
    "## Silhouette Coefficient\n",
    "Silhouette score mengukur seberapa mirip suatu titik dengan cluster-nya sendiri dibandingkan dengan cluster lain.\n",
    "\n",
    "\\[\n",
    "s(i) = \\frac{b(i) - a(i)}{\\max(a(i), b(i))}\n",
    "\\]\n",
    "\n",
    "- \\( a(i) \\): rata-rata jarak titik \\(i\\) ke semua titik lain dalam cluster yang sama.\n",
    "- \\( b(i) \\): jarak rata-rata terkecil titik \\(i\\) ke semua titik di cluster lain.\n",
    "\n",
    "Nilai mendekati 1 berarti cluster bagus, mendekati -1 berarti buruk."
   ]
  },
  {
   "cell_type": "markdown",
   "id": "c2bb140a",
   "metadata": {},
   "source": [
    "## Calinski-Harabasz Index\n",
    "Mengukur rasio antara dispersi antar-cluster terhadap dispersi intra-cluster.\n",
    "\n",
    "\\[\n",
    "CH = \\frac{Tr(B_k) / (k-1)}{Tr(W_k) / (n-k)}\n",
    "\\]\n",
    "\n",
    "- \\( Tr(B_k) \\): trace dari matriks dispersi antar-cluster.\n",
    "- \\( Tr(W_k) \\): trace dari matriks dispersi dalam-cluster.\n",
    "- \\( n \\): jumlah total data.\n",
    "- \\( k \\): jumlah cluster.\n",
    "\n",
    "Semakin besar nilainya, semakin baik pemisahan cluster."
   ]
  },
  {
   "cell_type": "markdown",
   "id": "6cc18864",
   "metadata": {},
   "source": [
    "## Davies-Bouldin Index\n",
    "Mengukur rata-rata \"kemiripan\" antar semua cluster. Semakin kecil, semakin bagus.\n",
    "\n",
    "\\[\n",
    "DB = \\frac{1}{k} \\sum_{i=1}^{k} \\max_{j \\neq i} R_{ij}\n",
    "\\]\n",
    "\n",
    "\\[\n",
    "R_{ij} = \\frac{s_i + s_j}{d_{ij}}\n",
    "\\]\n",
    "\n",
    "- \\( s_i \\): jarak rata-rata antara titik dalam cluster \\(i\\) ke centroid-nya.\n",
    "- \\( d_{ij} \\): jarak antara centroid cluster \\(i\\) dan \\(j\\)."
   ]
  },
  {
   "cell_type": "markdown",
   "id": "102ce243",
   "metadata": {},
   "source": [
    "## Membandingkan jarak minimum antar cluster dengan diameter cluster terbesar.\n",
    "\n",
    "\\[\n",
    "DI = \\frac{\\min(\\text{jarak antar cluster})}{\\max(\\text{diameter cluster})}\n",
    "\\]\n",
    "\n",
    "Semakin besar nilai Dunn Index, semakin bagus cluster yang terbentuk.\n"
   ]
  },
  {
   "cell_type": "markdown",
   "id": "ece8ebb3",
   "metadata": {},
   "source": [
    "## Conclusion\n",
    "- Semakin tinggi **Silhouette Score**, **Calinski-Harabasz Index**, **Dunn Index**, semakin baik.\n",
    "- Semakin rendah **Davies-Bouldin Index**, semakin baik.\n",
    "\n",
    "Model dengan kombinasi terbaik dari metrik-metrik ini adalah model clustering yang paling optimal.\n"
   ]
  }
 ],
 "metadata": {
  "kernelspec": {
   "display_name": "Python 3",
   "language": "python",
   "name": "python3"
  },
  "language_info": {
   "codemirror_mode": {
    "name": "ipython",
    "version": 3
   },
   "file_extension": ".py",
   "mimetype": "text/x-python",
   "name": "python",
   "nbconvert_exporter": "python",
   "pygments_lexer": "ipython3",
   "version": "3.11.5"
  }
 },
 "nbformat": 4,
 "nbformat_minor": 5
}
