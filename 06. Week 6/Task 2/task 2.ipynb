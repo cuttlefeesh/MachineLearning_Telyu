{
 "cells": [
  {
   "cell_type": "code",
   "execution_count": null,
   "id": "0d55b9af",
   "metadata": {},
   "outputs": [],
   "source": [
    "import pandas as pd\n",
    "import numpy as np\n",
    "import matplotlib.pyplot as plt\n",
    "from sklearn.cluster import KMeans, AgglomerativeClustering\n",
    "from sklearn.metrics import silhouette_score, calinski_harabasz_score, davies_bouldin_score\n",
    "from sklearn.preprocessing import RobustScaler\n",
    "from scipy.spatial.distance import cdist\n",
    "from sklearn.metrics.pairwise import pairwise_distances"
   ]
  },
  {
   "cell_type": "code",
   "execution_count": 10,
   "id": "31f6e9bf",
   "metadata": {},
   "outputs": [
    {
     "data": {
      "application/vnd.microsoft.datawrangler.viewer.v0+json": {
       "columns": [
        {
         "name": "index",
         "rawType": "int64",
         "type": "integer"
        },
        {
         "name": "ID",
         "rawType": "int64",
         "type": "integer"
        },
        {
         "name": "Year_Birth",
         "rawType": "int64",
         "type": "integer"
        },
        {
         "name": "Education",
         "rawType": "object",
         "type": "string"
        },
        {
         "name": "Marital_Status",
         "rawType": "object",
         "type": "string"
        },
        {
         "name": "Income",
         "rawType": "float64",
         "type": "float"
        },
        {
         "name": "Kidhome",
         "rawType": "int64",
         "type": "integer"
        },
        {
         "name": "Teenhome",
         "rawType": "int64",
         "type": "integer"
        },
        {
         "name": "Dt_Customer",
         "rawType": "object",
         "type": "string"
        },
        {
         "name": "Recency",
         "rawType": "int64",
         "type": "integer"
        },
        {
         "name": "MntWines",
         "rawType": "int64",
         "type": "integer"
        },
        {
         "name": "MntFruits",
         "rawType": "int64",
         "type": "integer"
        },
        {
         "name": "MntMeatProducts",
         "rawType": "int64",
         "type": "integer"
        },
        {
         "name": "MntFishProducts",
         "rawType": "int64",
         "type": "integer"
        },
        {
         "name": "MntSweetProducts",
         "rawType": "int64",
         "type": "integer"
        },
        {
         "name": "MntGoldProds",
         "rawType": "int64",
         "type": "integer"
        },
        {
         "name": "NumDealsPurchases",
         "rawType": "int64",
         "type": "integer"
        },
        {
         "name": "NumWebPurchases",
         "rawType": "int64",
         "type": "integer"
        },
        {
         "name": "NumCatalogPurchases",
         "rawType": "int64",
         "type": "integer"
        },
        {
         "name": "NumStorePurchases",
         "rawType": "int64",
         "type": "integer"
        },
        {
         "name": "NumWebVisitsMonth",
         "rawType": "int64",
         "type": "integer"
        },
        {
         "name": "AcceptedCmp3",
         "rawType": "int64",
         "type": "integer"
        },
        {
         "name": "AcceptedCmp4",
         "rawType": "int64",
         "type": "integer"
        },
        {
         "name": "AcceptedCmp5",
         "rawType": "int64",
         "type": "integer"
        },
        {
         "name": "AcceptedCmp1",
         "rawType": "int64",
         "type": "integer"
        },
        {
         "name": "AcceptedCmp2",
         "rawType": "int64",
         "type": "integer"
        },
        {
         "name": "Complain",
         "rawType": "int64",
         "type": "integer"
        },
        {
         "name": "Z_CostContact",
         "rawType": "int64",
         "type": "integer"
        },
        {
         "name": "Z_Revenue",
         "rawType": "int64",
         "type": "integer"
        },
        {
         "name": "Response",
         "rawType": "int64",
         "type": "integer"
        }
       ],
       "conversionMethod": "pd.DataFrame",
       "ref": "a4ee97b1-011b-4396-a266-08e021607fb0",
       "rows": [
        [
         "0",
         "5524",
         "1957",
         "Graduation",
         "Single",
         "58138.0",
         "0",
         "0",
         "04-09-2012",
         "58",
         "635",
         "88",
         "546",
         "172",
         "88",
         "88",
         "3",
         "8",
         "10",
         "4",
         "7",
         "0",
         "0",
         "0",
         "0",
         "0",
         "0",
         "3",
         "11",
         "1"
        ],
        [
         "1",
         "2174",
         "1954",
         "Graduation",
         "Single",
         "46344.0",
         "1",
         "1",
         "08-03-2014",
         "38",
         "11",
         "1",
         "6",
         "2",
         "1",
         "6",
         "2",
         "1",
         "1",
         "2",
         "5",
         "0",
         "0",
         "0",
         "0",
         "0",
         "0",
         "3",
         "11",
         "0"
        ],
        [
         "2",
         "4141",
         "1965",
         "Graduation",
         "Together",
         "71613.0",
         "0",
         "0",
         "21-08-2013",
         "26",
         "426",
         "49",
         "127",
         "111",
         "21",
         "42",
         "1",
         "8",
         "2",
         "10",
         "4",
         "0",
         "0",
         "0",
         "0",
         "0",
         "0",
         "3",
         "11",
         "0"
        ],
        [
         "3",
         "6182",
         "1984",
         "Graduation",
         "Together",
         "26646.0",
         "1",
         "0",
         "10-02-2014",
         "26",
         "11",
         "4",
         "20",
         "10",
         "3",
         "5",
         "2",
         "2",
         "0",
         "4",
         "6",
         "0",
         "0",
         "0",
         "0",
         "0",
         "0",
         "3",
         "11",
         "0"
        ],
        [
         "4",
         "5324",
         "1981",
         "PhD",
         "Married",
         "58293.0",
         "1",
         "0",
         "19-01-2014",
         "94",
         "173",
         "43",
         "118",
         "46",
         "27",
         "15",
         "5",
         "5",
         "3",
         "6",
         "5",
         "0",
         "0",
         "0",
         "0",
         "0",
         "0",
         "3",
         "11",
         "0"
        ]
       ],
       "shape": {
        "columns": 29,
        "rows": 5
       }
      },
      "text/html": [
       "<div>\n",
       "<style scoped>\n",
       "    .dataframe tbody tr th:only-of-type {\n",
       "        vertical-align: middle;\n",
       "    }\n",
       "\n",
       "    .dataframe tbody tr th {\n",
       "        vertical-align: top;\n",
       "    }\n",
       "\n",
       "    .dataframe thead th {\n",
       "        text-align: right;\n",
       "    }\n",
       "</style>\n",
       "<table border=\"1\" class=\"dataframe\">\n",
       "  <thead>\n",
       "    <tr style=\"text-align: right;\">\n",
       "      <th></th>\n",
       "      <th>ID</th>\n",
       "      <th>Year_Birth</th>\n",
       "      <th>Education</th>\n",
       "      <th>Marital_Status</th>\n",
       "      <th>Income</th>\n",
       "      <th>Kidhome</th>\n",
       "      <th>Teenhome</th>\n",
       "      <th>Dt_Customer</th>\n",
       "      <th>Recency</th>\n",
       "      <th>MntWines</th>\n",
       "      <th>...</th>\n",
       "      <th>NumWebVisitsMonth</th>\n",
       "      <th>AcceptedCmp3</th>\n",
       "      <th>AcceptedCmp4</th>\n",
       "      <th>AcceptedCmp5</th>\n",
       "      <th>AcceptedCmp1</th>\n",
       "      <th>AcceptedCmp2</th>\n",
       "      <th>Complain</th>\n",
       "      <th>Z_CostContact</th>\n",
       "      <th>Z_Revenue</th>\n",
       "      <th>Response</th>\n",
       "    </tr>\n",
       "  </thead>\n",
       "  <tbody>\n",
       "    <tr>\n",
       "      <th>0</th>\n",
       "      <td>5524</td>\n",
       "      <td>1957</td>\n",
       "      <td>Graduation</td>\n",
       "      <td>Single</td>\n",
       "      <td>58138.0</td>\n",
       "      <td>0</td>\n",
       "      <td>0</td>\n",
       "      <td>04-09-2012</td>\n",
       "      <td>58</td>\n",
       "      <td>635</td>\n",
       "      <td>...</td>\n",
       "      <td>7</td>\n",
       "      <td>0</td>\n",
       "      <td>0</td>\n",
       "      <td>0</td>\n",
       "      <td>0</td>\n",
       "      <td>0</td>\n",
       "      <td>0</td>\n",
       "      <td>3</td>\n",
       "      <td>11</td>\n",
       "      <td>1</td>\n",
       "    </tr>\n",
       "    <tr>\n",
       "      <th>1</th>\n",
       "      <td>2174</td>\n",
       "      <td>1954</td>\n",
       "      <td>Graduation</td>\n",
       "      <td>Single</td>\n",
       "      <td>46344.0</td>\n",
       "      <td>1</td>\n",
       "      <td>1</td>\n",
       "      <td>08-03-2014</td>\n",
       "      <td>38</td>\n",
       "      <td>11</td>\n",
       "      <td>...</td>\n",
       "      <td>5</td>\n",
       "      <td>0</td>\n",
       "      <td>0</td>\n",
       "      <td>0</td>\n",
       "      <td>0</td>\n",
       "      <td>0</td>\n",
       "      <td>0</td>\n",
       "      <td>3</td>\n",
       "      <td>11</td>\n",
       "      <td>0</td>\n",
       "    </tr>\n",
       "    <tr>\n",
       "      <th>2</th>\n",
       "      <td>4141</td>\n",
       "      <td>1965</td>\n",
       "      <td>Graduation</td>\n",
       "      <td>Together</td>\n",
       "      <td>71613.0</td>\n",
       "      <td>0</td>\n",
       "      <td>0</td>\n",
       "      <td>21-08-2013</td>\n",
       "      <td>26</td>\n",
       "      <td>426</td>\n",
       "      <td>...</td>\n",
       "      <td>4</td>\n",
       "      <td>0</td>\n",
       "      <td>0</td>\n",
       "      <td>0</td>\n",
       "      <td>0</td>\n",
       "      <td>0</td>\n",
       "      <td>0</td>\n",
       "      <td>3</td>\n",
       "      <td>11</td>\n",
       "      <td>0</td>\n",
       "    </tr>\n",
       "    <tr>\n",
       "      <th>3</th>\n",
       "      <td>6182</td>\n",
       "      <td>1984</td>\n",
       "      <td>Graduation</td>\n",
       "      <td>Together</td>\n",
       "      <td>26646.0</td>\n",
       "      <td>1</td>\n",
       "      <td>0</td>\n",
       "      <td>10-02-2014</td>\n",
       "      <td>26</td>\n",
       "      <td>11</td>\n",
       "      <td>...</td>\n",
       "      <td>6</td>\n",
       "      <td>0</td>\n",
       "      <td>0</td>\n",
       "      <td>0</td>\n",
       "      <td>0</td>\n",
       "      <td>0</td>\n",
       "      <td>0</td>\n",
       "      <td>3</td>\n",
       "      <td>11</td>\n",
       "      <td>0</td>\n",
       "    </tr>\n",
       "    <tr>\n",
       "      <th>4</th>\n",
       "      <td>5324</td>\n",
       "      <td>1981</td>\n",
       "      <td>PhD</td>\n",
       "      <td>Married</td>\n",
       "      <td>58293.0</td>\n",
       "      <td>1</td>\n",
       "      <td>0</td>\n",
       "      <td>19-01-2014</td>\n",
       "      <td>94</td>\n",
       "      <td>173</td>\n",
       "      <td>...</td>\n",
       "      <td>5</td>\n",
       "      <td>0</td>\n",
       "      <td>0</td>\n",
       "      <td>0</td>\n",
       "      <td>0</td>\n",
       "      <td>0</td>\n",
       "      <td>0</td>\n",
       "      <td>3</td>\n",
       "      <td>11</td>\n",
       "      <td>0</td>\n",
       "    </tr>\n",
       "  </tbody>\n",
       "</table>\n",
       "<p>5 rows × 29 columns</p>\n",
       "</div>"
      ],
      "text/plain": [
       "     ID  Year_Birth   Education Marital_Status   Income  Kidhome  Teenhome  \\\n",
       "0  5524        1957  Graduation         Single  58138.0        0         0   \n",
       "1  2174        1954  Graduation         Single  46344.0        1         1   \n",
       "2  4141        1965  Graduation       Together  71613.0        0         0   \n",
       "3  6182        1984  Graduation       Together  26646.0        1         0   \n",
       "4  5324        1981         PhD        Married  58293.0        1         0   \n",
       "\n",
       "  Dt_Customer  Recency  MntWines  ...  NumWebVisitsMonth  AcceptedCmp3  \\\n",
       "0  04-09-2012       58       635  ...                  7             0   \n",
       "1  08-03-2014       38        11  ...                  5             0   \n",
       "2  21-08-2013       26       426  ...                  4             0   \n",
       "3  10-02-2014       26        11  ...                  6             0   \n",
       "4  19-01-2014       94       173  ...                  5             0   \n",
       "\n",
       "   AcceptedCmp4  AcceptedCmp5  AcceptedCmp1  AcceptedCmp2  Complain  \\\n",
       "0             0             0             0             0         0   \n",
       "1             0             0             0             0         0   \n",
       "2             0             0             0             0         0   \n",
       "3             0             0             0             0         0   \n",
       "4             0             0             0             0         0   \n",
       "\n",
       "   Z_CostContact  Z_Revenue  Response  \n",
       "0              3         11         1  \n",
       "1              3         11         0  \n",
       "2              3         11         0  \n",
       "3              3         11         0  \n",
       "4              3         11         0  \n",
       "\n",
       "[5 rows x 29 columns]"
      ]
     },
     "execution_count": 10,
     "metadata": {},
     "output_type": "execute_result"
    }
   ],
   "source": [
    "url = 'https://raw.githubusercontent.com/farrelrassya/teachingMLDL/refs/heads/main/01.%20Machine%20Learning/06.%20Week%206/Datasets/clusteringcampaign.csv'\n",
    "df = pd.read_csv(url, sep='\\t')\n",
    "df.head()"
   ]
  },
  {
   "cell_type": "code",
   "execution_count": 11,
   "id": "90921f87",
   "metadata": {},
   "outputs": [
    {
     "name": "stdout",
     "output_type": "stream",
     "text": [
      "<class 'pandas.core.frame.DataFrame'>\n",
      "RangeIndex: 2240 entries, 0 to 2239\n",
      "Data columns (total 29 columns):\n",
      " #   Column               Non-Null Count  Dtype  \n",
      "---  ------               --------------  -----  \n",
      " 0   ID                   2240 non-null   int64  \n",
      " 1   Year_Birth           2240 non-null   int64  \n",
      " 2   Education            2240 non-null   object \n",
      " 3   Marital_Status       2240 non-null   object \n",
      " 4   Income               2216 non-null   float64\n",
      " 5   Kidhome              2240 non-null   int64  \n",
      " 6   Teenhome             2240 non-null   int64  \n",
      " 7   Dt_Customer          2240 non-null   object \n",
      " 8   Recency              2240 non-null   int64  \n",
      " 9   MntWines             2240 non-null   int64  \n",
      " 10  MntFruits            2240 non-null   int64  \n",
      " 11  MntMeatProducts      2240 non-null   int64  \n",
      " 12  MntFishProducts      2240 non-null   int64  \n",
      " 13  MntSweetProducts     2240 non-null   int64  \n",
      " 14  MntGoldProds         2240 non-null   int64  \n",
      " 15  NumDealsPurchases    2240 non-null   int64  \n",
      " 16  NumWebPurchases      2240 non-null   int64  \n",
      " 17  NumCatalogPurchases  2240 non-null   int64  \n",
      " 18  NumStorePurchases    2240 non-null   int64  \n",
      " 19  NumWebVisitsMonth    2240 non-null   int64  \n",
      " 20  AcceptedCmp3         2240 non-null   int64  \n",
      " 21  AcceptedCmp4         2240 non-null   int64  \n",
      " 22  AcceptedCmp5         2240 non-null   int64  \n",
      " 23  AcceptedCmp1         2240 non-null   int64  \n",
      " 24  AcceptedCmp2         2240 non-null   int64  \n",
      " 25  Complain             2240 non-null   int64  \n",
      " 26  Z_CostContact        2240 non-null   int64  \n",
      " 27  Z_Revenue            2240 non-null   int64  \n",
      " 28  Response             2240 non-null   int64  \n",
      "dtypes: float64(1), int64(25), object(3)\n",
      "memory usage: 507.6+ KB\n"
     ]
    }
   ],
   "source": [
    "df.info()"
   ]
  },
  {
   "cell_type": "code",
   "execution_count": 12,
   "id": "1a719b77",
   "metadata": {},
   "outputs": [
    {
     "name": "stdout",
     "output_type": "stream",
     "text": [
      "<class 'pandas.core.frame.DataFrame'>\n",
      "Index: 2216 entries, 0 to 2239\n",
      "Data columns (total 29 columns):\n",
      " #   Column               Non-Null Count  Dtype  \n",
      "---  ------               --------------  -----  \n",
      " 0   ID                   2216 non-null   int64  \n",
      " 1   Year_Birth           2216 non-null   int64  \n",
      " 2   Education            2216 non-null   object \n",
      " 3   Marital_Status       2216 non-null   object \n",
      " 4   Income               2216 non-null   float64\n",
      " 5   Kidhome              2216 non-null   int64  \n",
      " 6   Teenhome             2216 non-null   int64  \n",
      " 7   Dt_Customer          2216 non-null   object \n",
      " 8   Recency              2216 non-null   int64  \n",
      " 9   MntWines             2216 non-null   int64  \n",
      " 10  MntFruits            2216 non-null   int64  \n",
      " 11  MntMeatProducts      2216 non-null   int64  \n",
      " 12  MntFishProducts      2216 non-null   int64  \n",
      " 13  MntSweetProducts     2216 non-null   int64  \n",
      " 14  MntGoldProds         2216 non-null   int64  \n",
      " 15  NumDealsPurchases    2216 non-null   int64  \n",
      " 16  NumWebPurchases      2216 non-null   int64  \n",
      " 17  NumCatalogPurchases  2216 non-null   int64  \n",
      " 18  NumStorePurchases    2216 non-null   int64  \n",
      " 19  NumWebVisitsMonth    2216 non-null   int64  \n",
      " 20  AcceptedCmp3         2216 non-null   int64  \n",
      " 21  AcceptedCmp4         2216 non-null   int64  \n",
      " 22  AcceptedCmp5         2216 non-null   int64  \n",
      " 23  AcceptedCmp1         2216 non-null   int64  \n",
      " 24  AcceptedCmp2         2216 non-null   int64  \n",
      " 25  Complain             2216 non-null   int64  \n",
      " 26  Z_CostContact        2216 non-null   int64  \n",
      " 27  Z_Revenue            2216 non-null   int64  \n",
      " 28  Response             2216 non-null   int64  \n",
      "dtypes: float64(1), int64(25), object(3)\n",
      "memory usage: 519.4+ KB\n"
     ]
    }
   ],
   "source": [
    "df = df.dropna()\n",
    "df.info()"
   ]
  },
  {
   "cell_type": "code",
   "execution_count": 8,
   "id": "5e0b23e5",
   "metadata": {},
   "outputs": [],
   "source": [
    "# Menghapus kolom yang tidak relevan\n",
    "df_cleaned = df.drop(columns=['ID', 'Dt_Customer', 'Marital_Status'])\n",
    "\n",
    "# Mengambil hanya kolom numerik\n",
    "numeric_data = df_cleaned.select_dtypes(include=[np.number])"
   ]
  },
  {
   "cell_type": "code",
   "execution_count": 61,
   "id": "75f3f2ab",
   "metadata": {},
   "outputs": [],
   "source": [
    "# Menstandarisasi data\n",
    "scaler = RobustScaler()\n",
    "data_scaled = scaler.fit_transform(numeric_data)"
   ]
  },
  {
   "cell_type": "code",
   "execution_count": 62,
   "id": "d79233b3",
   "metadata": {},
   "outputs": [
    {
     "name": "stdout",
     "output_type": "stream",
     "text": [
      "Best Parameters for KMeans: {'init': 'random', 'max_iter': 300, 'n_clusters': 6, 'n_init': 10}\n"
     ]
    }
   ],
   "source": [
    "from sklearn.model_selection import GridSearchCV\n",
    "\n",
    "# KMeans Grid Search untuk tuning hyperparameter\n",
    "param_grid = {\n",
    "    'n_clusters': [3, 4, 5, 6],\n",
    "    'init': ['k-means++', 'random'],\n",
    "    'max_iter': [300, 500],\n",
    "    'n_init': [10, 20]\n",
    "}\n",
    "kmeans_grid = GridSearchCV(KMeans(), param_grid, cv=5)\n",
    "kmeans_grid.fit(data_scaled)\n",
    "\n",
    "# Melihat hasil terbaik dari Grid Search\n",
    "print(\"Best Parameters for KMeans:\", kmeans_grid.best_params_)"
   ]
  },
  {
   "cell_type": "code",
   "execution_count": 63,
   "id": "b28b2de1",
   "metadata": {},
   "outputs": [
    {
     "data": {
      "image/png": "[encoded data removed]",
      "text/plain": [
       "<Figure size 800x600 with 1 Axes>"
      ]
     },
     "metadata": {},
     "output_type": "display_data"
    }
   ],
   "source": [
    "# Elbow Method untuk menentukan jumlah cluster optimal pada KMeans\n",
    "wcss = []\n",
    "for i in range(1, 11):\n",
    "    kmeans = KMeans(n_clusters=i, init='k-means++', max_iter=300, n_init=10, random_state=42)\n",
    "    kmeans.fit(data_scaled)\n",
    "    wcss.append(kmeans.inertia_)\n",
    "\n",
    "# Plot Elbow Method\n",
    "plt.figure(figsize=(8,6))\n",
    "plt.plot(range(1, 11), wcss)\n",
    "plt.title('Elbow Method For Optimal Number of Clusters')\n",
    "plt.xlabel('Number of Clusters')\n",
    "plt.ylabel('WCSS')\n",
    "plt.show()"
   ]
  },
  {
   "cell_type": "code",
   "execution_count": 64,
   "id": "353417b8",
   "metadata": {},
   "outputs": [],
   "source": [
    "# KMeans Clustering\n",
    "optimal_clusters = 6  # Berdasarkan Elbow Method\n",
    "kmeans = KMeans(n_clusters=optimal_clusters, init='k-means++', max_iter=300, n_init=10, random_state=42)\n",
    "kmeans_labels = kmeans.fit_predict(data_scaled)\n",
    "\n",
    "# Silhouette Score untuk KMeans\n",
    "silhouette_kmeans = silhouette_score(data_scaled, kmeans_labels)"
   ]
  },
  {
   "cell_type": "code",
   "execution_count": 72,
   "id": "14a115e5",
   "metadata": {},
   "outputs": [],
   "source": [
    "# Agglomerative Clustering\n",
    "agg_clustering = AgglomerativeClustering(n_clusters=optimal_clusters)  # Menggunakan jumlah cluster yang sudah ditentukan sebelumnya\n",
    "agg_labels = agg_clustering.fit_predict(data_scaled)\n",
    "\n",
    "# Menghitung Silhouette Score untuk Agglomerative Clustering\n",
    "silhouette_agg = silhouette_score(data_scaled, agg_labels)"
   ]
  },
  {
   "cell_type": "code",
   "execution_count": 73,
   "id": "00babb32",
   "metadata": {},
   "outputs": [],
   "source": [
    "# Menghitung Calinski-Harabasz Index untuk KMeans dan Agglomerative Clustering\n",
    "calinski_kmeans = calinski_harabasz_score(data_scaled, kmeans_labels)\n",
    "calinski_agg = calinski_harabasz_score(data_scaled, agg_labels)"
   ]
  },
  {
   "cell_type": "code",
   "execution_count": 74,
   "id": "16f5f456",
   "metadata": {},
   "outputs": [],
   "source": [
    "# Menghitung Davies-Bouldin Index untuk KMeans dan Agglomerative Clustering\n",
    "davies_bouldin_kmeans = davies_bouldin_score(data_scaled, kmeans_labels)\n",
    "davies_bouldin_agg = davies_bouldin_score(data_scaled, agg_labels)"
   ]
  },
  {
   "cell_type": "code",
   "execution_count": 75,
   "id": "630c6e18",
   "metadata": {},
   "outputs": [],
   "source": [
    "# Menghitung Dunn Index untuk KMeans dan Agglomerative Clustering\n",
    "def dunn_index(data, labels):\n",
    "    clusters = np.unique(labels)\n",
    "    min_dist = np.inf\n",
    "    max_intracluster_dist = -np.inf\n",
    "    for cluster in clusters:\n",
    "        cluster_points = data[labels == cluster]\n",
    "        if len(cluster_points) > 1:\n",
    "            intra_dist = pairwise_distances(cluster_points).max()\n",
    "            max_intracluster_dist = max(max_intracluster_dist, intra_dist)\n",
    "        for other_cluster in clusters:\n",
    "            if cluster != other_cluster:\n",
    "                other_cluster_points = data[labels == other_cluster]\n",
    "                dist = np.min(cdist(cluster_points, other_cluster_points))\n",
    "                min_dist = min(min_dist, dist)\n",
    "    return min_dist / max_intracluster_dist if max_intracluster_dist != 0 else 0\n",
    "\n",
    "dunn_kmeans = dunn_index(data_scaled, kmeans_labels)\n",
    "dunn_agg = dunn_index(data_scaled, agg_labels)"
   ]
  },
  {
   "cell_type": "code",
   "execution_count": 76,
   "id": "ba1ce7c4",
   "metadata": {},
   "outputs": [
    {
     "name": "stdout",
     "output_type": "stream",
     "text": [
      "Evaluasi untuk KMeans (6 clusters):\n",
      "Silhouette Score: 0.23611677620836663\n",
      "Calinski-Harabasz Index: 472.74719324854277\n",
      "Davies-Bouldin Index: 1.9279203634851025\n",
      "Dunn Index: 0.032483022781138814\n",
      "\n",
      "Evaluasi untuk Agglomerative Clustering:\n",
      "Silhouette Score: 0.21243560664270014\n",
      "Calinski-Harabasz Index: 405.50115292228327\n",
      "Davies-Bouldin Index: 2.201525910702236\n",
      "Dunn Index: 0.03233204946423791\n"
     ]
    }
   ],
   "source": [
    "# Menampilkan hasil evaluasi\n",
    "print(\"Evaluasi untuk KMeans (6 clusters):\")\n",
    "print(f\"Silhouette Score: {silhouette_kmeans}\")\n",
    "print(f\"Calinski-Harabasz Index: {calinski_kmeans}\")\n",
    "print(f\"Davies-Bouldin Index: {davies_bouldin_kmeans}\")\n",
    "print(f\"Dunn Index: {dunn_kmeans}\")\n",
    "\n",
    "print(\"\\nEvaluasi untuk Agglomerative Clustering:\")\n",
    "print(f\"Silhouette Score: {silhouette_agg}\")\n",
    "print(f\"Calinski-Harabasz Index: {calinski_agg}\")\n",
    "print(f\"Davies-Bouldin Index: {davies_bouldin_agg}\")\n",
    "print(f\"Dunn Index: {dunn_agg}\")"
   ]
  },
  {
   "cell_type": "markdown",
   "id": "f309928b",
   "metadata": {},
   "source": [
    "## Silhouette Coefficient\n",
    "Silhouette score mengukur seberapa mirip suatu titik dengan cluster-nya sendiri dibandingkan dengan cluster lain.\n",
    "\n",
    "\\[\n",
    "s(i) = \\frac{b(i) - a(i)}{\\max(a(i), b(i))}\n",
    "\\]\n",
    "\n",
    "- \\( a(i) \\): rata-rata jarak titik \\(i\\) ke semua titik lain dalam cluster yang sama.\n",
    "- \\( b(i) \\): jarak rata-rata terkecil titik \\(i\\) ke semua titik di cluster lain.\n",
    "\n",
    "Nilai mendekati 1 berarti cluster bagus, mendekati -1 berarti buruk."
   ]
  },
  {
   "cell_type": "markdown",
   "id": "b0ed4bb8",
   "metadata": {},
   "source": [
    "## Calinski-Harabasz Index\n",
    "Mengukur rasio antara dispersi antar-cluster terhadap dispersi intra-cluster.\n",
    "\n",
    "\\[\n",
    "CH = \\frac{Tr(B_k) / (k-1)}{Tr(W_k) / (n-k)}\n",
    "\\]\n",
    "\n",
    "- \\( Tr(B_k) \\): trace dari matriks dispersi antar-cluster.\n",
    "- \\( Tr(W_k) \\): trace dari matriks dispersi dalam-cluster.\n",
    "- \\( n \\): jumlah total data.\n",
    "- \\( k \\): jumlah cluster.\n",
    "\n",
    "Semakin besar nilainya, semakin baik pemisahan cluster."
   ]
  },
  {
   "cell_type": "markdown",
   "id": "4bfdaa35",
   "metadata": {},
   "source": [
    "## Davies-Bouldin Index\n",
    "Mengukur rata-rata \"kemiripan\" antar semua cluster. Semakin kecil, semakin bagus.\n",
    "\n",
    "\\[\n",
    "DB = \\frac{1}{k} \\sum_{i=1}^{k} \\max_{j \\neq i} R_{ij}\n",
    "\\]\n",
    "\n",
    "\\[\n",
    "R_{ij} = \\frac{s_i + s_j}{d_{ij}}\n",
    "\\]\n",
    "\n",
    "- \\( s_i \\): jarak rata-rata antara titik dalam cluster \\(i\\) ke centroid-nya.\n",
    "- \\( d_{ij} \\): jarak antara centroid cluster \\(i\\) dan \\(j\\)."
   ]
  }
 ],
 "metadata": {
  "kernelspec": {
   "display_name": "Python 3",
   "language": "python",
   "name": "python3"
  },
  "language_info": {
   "codemirror_mode": {
    "name": "ipython",
    "version": 3
   },
   "file_extension": ".py",
   "mimetype": "text/x-python",
   "name": "python",
   "nbconvert_exporter": "python",
   "pygments_lexer": "ipython3",
   "version": "3.11.5"
  }
 },
 "nbformat": 4,
 "nbformat_minor": 5
}
