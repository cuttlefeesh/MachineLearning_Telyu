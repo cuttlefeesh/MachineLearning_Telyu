{
 "cells": [
  {
   "cell_type": "code",
   "execution_count": 122,
   "id": "5d5eeada",
   "metadata": {},
   "outputs": [],
   "source": [
    "import pandas as pd \n",
    "import numpy as np \n",
    "import matplotlib.pyplot as plt \n",
    "import seaborn as sns "
   ]
  },
  {
   "cell_type": "markdown",
   "id": "3ceaef4e",
   "metadata": {},
   "source": [
    "## Load the Dataset"
   ]
  },
  {
   "cell_type": "code",
   "execution_count": 123,
   "id": "5107f51a",
   "metadata": {},
   "outputs": [
    {
     "data": {
      "application/vnd.microsoft.datawrangler.viewer.v0+json": {
       "columns": [
        {
         "name": "index",
         "rawType": "int64",
         "type": "integer"
        },
        {
         "name": "Gender",
         "rawType": "object",
         "type": "string"
        },
        {
         "name": "Age",
         "rawType": "object",
         "type": "string"
        },
        {
         "name": "Ethnicity",
         "rawType": "object",
         "type": "string"
        },
        {
         "name": "T_atm",
         "rawType": "float64",
         "type": "float"
        },
        {
         "name": "Humidity",
         "rawType": "float64",
         "type": "float"
        },
        {
         "name": "Distance",
         "rawType": "float64",
         "type": "float"
        },
        {
         "name": "T_offset1",
         "rawType": "float64",
         "type": "float"
        },
        {
         "name": "Max1R13_1",
         "rawType": "float64",
         "type": "float"
        },
        {
         "name": "Max1L13_1",
         "rawType": "float64",
         "type": "float"
        },
        {
         "name": "aveAllR13_1",
         "rawType": "float64",
         "type": "float"
        },
        {
         "name": "aveAllL13_1",
         "rawType": "float64",
         "type": "float"
        },
        {
         "name": "T_RC1",
         "rawType": "float64",
         "type": "float"
        },
        {
         "name": "T_RC_Dry1",
         "rawType": "float64",
         "type": "float"
        },
        {
         "name": "T_RC_Wet1",
         "rawType": "float64",
         "type": "float"
        },
        {
         "name": "T_RC_Max1",
         "rawType": "float64",
         "type": "float"
        },
        {
         "name": "T_LC1",
         "rawType": "float64",
         "type": "float"
        },
        {
         "name": "T_LC_Dry1",
         "rawType": "float64",
         "type": "float"
        },
        {
         "name": "T_LC_Wet1",
         "rawType": "float64",
         "type": "float"
        },
        {
         "name": "T_LC_Max1",
         "rawType": "float64",
         "type": "float"
        },
        {
         "name": "RCC1",
         "rawType": "float64",
         "type": "float"
        },
        {
         "name": "LCC1",
         "rawType": "float64",
         "type": "float"
        },
        {
         "name": "canthiMax1",
         "rawType": "float64",
         "type": "float"
        },
        {
         "name": "canthi4Max1",
         "rawType": "float64",
         "type": "float"
        },
        {
         "name": "T_FHCC1",
         "rawType": "float64",
         "type": "float"
        },
        {
         "name": "T_FHRC1",
         "rawType": "float64",
         "type": "float"
        },
        {
         "name": "T_FHLC1",
         "rawType": "float64",
         "type": "float"
        },
        {
         "name": "T_FHBC1",
         "rawType": "float64",
         "type": "float"
        },
        {
         "name": "T_FHTC1",
         "rawType": "float64",
         "type": "float"
        },
        {
         "name": "T_FH_Max1",
         "rawType": "float64",
         "type": "float"
        },
        {
         "name": "T_FHC_Max1",
         "rawType": "float64",
         "type": "float"
        },
        {
         "name": "T_Max1",
         "rawType": "float64",
         "type": "float"
        },
        {
         "name": "T_OR1",
         "rawType": "float64",
         "type": "float"
        },
        {
         "name": "T_OR_Max1",
         "rawType": "float64",
         "type": "float"
        },
        {
         "name": "aveOralM",
         "rawType": "float64",
         "type": "float"
        }
       ],
       "conversionMethod": "pd.DataFrame",
       "ref": "b159216e-8016-4829-9a9f-0c8faed4c809",
       "rows": [
        [
         "0",
         "Male",
         "41-50",
         "White",
         "24.0",
         "28.0",
         "0.8",
         "0.7025",
         "35.03",
         "35.3775",
         "34.4",
         "34.9175",
         "34.985",
         "34.985",
         "34.7625",
         "35.0325",
         "35.3375",
         "35.3375",
         "34.485",
         "35.3775",
         "34.785",
         "34.465",
         "35.3775",
         "35.3375",
         "33.5775",
         "33.4775",
         "33.3725",
         "33.4925",
         "33.0025",
         "34.53",
         "34.0075",
         "35.6925",
         "35.635",
         "35.6525",
         "36.59"
        ],
        [
         "1",
         "Female",
         "31-40",
         "Black or African-American",
         "24.0",
         "26.0",
         "0.8",
         "0.78",
         "34.55",
         "34.52",
         "33.93",
         "34.225",
         "34.71",
         "34.6325",
         "34.64",
         "34.7425",
         "34.56",
         "34.5375",
         "34.35",
         "34.575",
         "34.3225",
         "34.24",
         "34.74",
         "34.715",
         "34.0325",
         "34.055",
         "33.6775",
         "33.97",
         "34.0025",
         "34.6825",
         "34.66",
         "35.175",
         "35.0925",
         "35.1075",
         "37.19"
        ],
        [
         "2",
         "Female",
         "21-30",
         "White",
         "24.0",
         "26.0",
         "0.8",
         "0.8625",
         "35.6525",
         "35.5175",
         "34.2775",
         "34.8",
         "35.685",
         "35.6675",
         "35.615",
         "35.7175",
         "35.5025",
         "35.5025",
         "35.295",
         "35.53",
         "35.3575",
         "35.0925",
         "35.7175",
         "35.6825",
         "34.9",
         "34.8275",
         "34.6475",
         "34.82",
         "34.67",
         "35.345",
         "35.2225",
         "35.9125",
         "35.86",
         "35.885",
         "37.34"
        ],
        [
         "3",
         "Female",
         "21-30",
         "Black or African-American",
         "24.0",
         "27.0",
         "0.8",
         "0.93",
         "35.2225",
         "35.6125",
         "34.385",
         "35.2475",
         "35.2075",
         "35.2",
         "35.1175",
         "35.225",
         "35.595",
         "35.595",
         "35.3275",
         "35.6125",
         "34.91",
         "35.17",
         "35.6125",
         "35.595",
         "34.44",
         "34.4225",
         "34.655",
         "34.3025",
         "34.9175",
         "35.6025",
         "35.315",
         "35.72",
         "34.965",
         "34.9825",
         "37.09"
        ],
        [
         "4",
         "Male",
         "18-20",
         "White",
         "24.0",
         "27.0",
         "0.8",
         "0.895",
         "35.545",
         "35.665",
         "34.91",
         "35.3675",
         "35.6025",
         "35.475",
         "35.57",
         "35.64",
         "35.64",
         "35.64",
         "35.0775",
         "35.6675",
         "35.355",
         "35.12",
         "35.665",
         "35.6475",
         "35.09",
         "35.16",
         "34.3975",
         "34.67",
         "33.8275",
         "35.4175",
         "35.3725",
         "35.895",
         "35.5875",
         "35.6175",
         "37.04"
        ]
       ],
       "shape": {
        "columns": 34,
        "rows": 5
       }
      },
      "text/html": [
       "<div>\n",
       "<style scoped>\n",
       "    .dataframe tbody tr th:only-of-type {\n",
       "        vertical-align: middle;\n",
       "    }\n",
       "\n",
       "    .dataframe tbody tr th {\n",
       "        vertical-align: top;\n",
       "    }\n",
       "\n",
       "    .dataframe thead th {\n",
       "        text-align: right;\n",
       "    }\n",
       "</style>\n",
       "<table border=\"1\" class=\"dataframe\">\n",
       "  <thead>\n",
       "    <tr style=\"text-align: right;\">\n",
       "      <th></th>\n",
       "      <th>Gender</th>\n",
       "      <th>Age</th>\n",
       "      <th>Ethnicity</th>\n",
       "      <th>T_atm</th>\n",
       "      <th>Humidity</th>\n",
       "      <th>Distance</th>\n",
       "      <th>T_offset1</th>\n",
       "      <th>Max1R13_1</th>\n",
       "      <th>Max1L13_1</th>\n",
       "      <th>aveAllR13_1</th>\n",
       "      <th>...</th>\n",
       "      <th>T_FHRC1</th>\n",
       "      <th>T_FHLC1</th>\n",
       "      <th>T_FHBC1</th>\n",
       "      <th>T_FHTC1</th>\n",
       "      <th>T_FH_Max1</th>\n",
       "      <th>T_FHC_Max1</th>\n",
       "      <th>T_Max1</th>\n",
       "      <th>T_OR1</th>\n",
       "      <th>T_OR_Max1</th>\n",
       "      <th>aveOralM</th>\n",
       "    </tr>\n",
       "  </thead>\n",
       "  <tbody>\n",
       "    <tr>\n",
       "      <th>0</th>\n",
       "      <td>Male</td>\n",
       "      <td>41-50</td>\n",
       "      <td>White</td>\n",
       "      <td>24.0</td>\n",
       "      <td>28.0</td>\n",
       "      <td>0.8</td>\n",
       "      <td>0.7025</td>\n",
       "      <td>35.0300</td>\n",
       "      <td>35.3775</td>\n",
       "      <td>34.4000</td>\n",
       "      <td>...</td>\n",
       "      <td>33.4775</td>\n",
       "      <td>33.3725</td>\n",
       "      <td>33.4925</td>\n",
       "      <td>33.0025</td>\n",
       "      <td>34.5300</td>\n",
       "      <td>34.0075</td>\n",
       "      <td>35.6925</td>\n",
       "      <td>35.6350</td>\n",
       "      <td>35.6525</td>\n",
       "      <td>36.59</td>\n",
       "    </tr>\n",
       "    <tr>\n",
       "      <th>1</th>\n",
       "      <td>Female</td>\n",
       "      <td>31-40</td>\n",
       "      <td>Black or African-American</td>\n",
       "      <td>24.0</td>\n",
       "      <td>26.0</td>\n",
       "      <td>0.8</td>\n",
       "      <td>0.7800</td>\n",
       "      <td>34.5500</td>\n",
       "      <td>34.5200</td>\n",
       "      <td>33.9300</td>\n",
       "      <td>...</td>\n",
       "      <td>34.0550</td>\n",
       "      <td>33.6775</td>\n",
       "      <td>33.9700</td>\n",
       "      <td>34.0025</td>\n",
       "      <td>34.6825</td>\n",
       "      <td>34.6600</td>\n",
       "      <td>35.1750</td>\n",
       "      <td>35.0925</td>\n",
       "      <td>35.1075</td>\n",
       "      <td>37.19</td>\n",
       "    </tr>\n",
       "    <tr>\n",
       "      <th>2</th>\n",
       "      <td>Female</td>\n",
       "      <td>21-30</td>\n",
       "      <td>White</td>\n",
       "      <td>24.0</td>\n",
       "      <td>26.0</td>\n",
       "      <td>0.8</td>\n",
       "      <td>0.8625</td>\n",
       "      <td>35.6525</td>\n",
       "      <td>35.5175</td>\n",
       "      <td>34.2775</td>\n",
       "      <td>...</td>\n",
       "      <td>34.8275</td>\n",
       "      <td>34.6475</td>\n",
       "      <td>34.8200</td>\n",
       "      <td>34.6700</td>\n",
       "      <td>35.3450</td>\n",
       "      <td>35.2225</td>\n",
       "      <td>35.9125</td>\n",
       "      <td>35.8600</td>\n",
       "      <td>35.8850</td>\n",
       "      <td>37.34</td>\n",
       "    </tr>\n",
       "    <tr>\n",
       "      <th>3</th>\n",
       "      <td>Female</td>\n",
       "      <td>21-30</td>\n",
       "      <td>Black or African-American</td>\n",
       "      <td>24.0</td>\n",
       "      <td>27.0</td>\n",
       "      <td>0.8</td>\n",
       "      <td>0.9300</td>\n",
       "      <td>35.2225</td>\n",
       "      <td>35.6125</td>\n",
       "      <td>34.3850</td>\n",
       "      <td>...</td>\n",
       "      <td>34.4225</td>\n",
       "      <td>34.6550</td>\n",
       "      <td>34.3025</td>\n",
       "      <td>34.9175</td>\n",
       "      <td>35.6025</td>\n",
       "      <td>35.3150</td>\n",
       "      <td>35.7200</td>\n",
       "      <td>34.9650</td>\n",
       "      <td>34.9825</td>\n",
       "      <td>37.09</td>\n",
       "    </tr>\n",
       "    <tr>\n",
       "      <th>4</th>\n",
       "      <td>Male</td>\n",
       "      <td>18-20</td>\n",
       "      <td>White</td>\n",
       "      <td>24.0</td>\n",
       "      <td>27.0</td>\n",
       "      <td>0.8</td>\n",
       "      <td>0.8950</td>\n",
       "      <td>35.5450</td>\n",
       "      <td>35.6650</td>\n",
       "      <td>34.9100</td>\n",
       "      <td>...</td>\n",
       "      <td>35.1600</td>\n",
       "      <td>34.3975</td>\n",
       "      <td>34.6700</td>\n",
       "      <td>33.8275</td>\n",
       "      <td>35.4175</td>\n",
       "      <td>35.3725</td>\n",
       "      <td>35.8950</td>\n",
       "      <td>35.5875</td>\n",
       "      <td>35.6175</td>\n",
       "      <td>37.04</td>\n",
       "    </tr>\n",
       "  </tbody>\n",
       "</table>\n",
       "<p>5 rows × 34 columns</p>\n",
       "</div>"
      ],
      "text/plain": [
       "   Gender    Age                  Ethnicity  T_atm  Humidity  Distance  \\\n",
       "0    Male  41-50                      White   24.0      28.0       0.8   \n",
       "1  Female  31-40  Black or African-American   24.0      26.0       0.8   \n",
       "2  Female  21-30                      White   24.0      26.0       0.8   \n",
       "3  Female  21-30  Black or African-American   24.0      27.0       0.8   \n",
       "4    Male  18-20                      White   24.0      27.0       0.8   \n",
       "\n",
       "   T_offset1  Max1R13_1  Max1L13_1  aveAllR13_1  ...  T_FHRC1  T_FHLC1  \\\n",
       "0     0.7025    35.0300    35.3775      34.4000  ...  33.4775  33.3725   \n",
       "1     0.7800    34.5500    34.5200      33.9300  ...  34.0550  33.6775   \n",
       "2     0.8625    35.6525    35.5175      34.2775  ...  34.8275  34.6475   \n",
       "3     0.9300    35.2225    35.6125      34.3850  ...  34.4225  34.6550   \n",
       "4     0.8950    35.5450    35.6650      34.9100  ...  35.1600  34.3975   \n",
       "\n",
       "   T_FHBC1  T_FHTC1  T_FH_Max1  T_FHC_Max1   T_Max1    T_OR1  T_OR_Max1  \\\n",
       "0  33.4925  33.0025    34.5300     34.0075  35.6925  35.6350    35.6525   \n",
       "1  33.9700  34.0025    34.6825     34.6600  35.1750  35.0925    35.1075   \n",
       "2  34.8200  34.6700    35.3450     35.2225  35.9125  35.8600    35.8850   \n",
       "3  34.3025  34.9175    35.6025     35.3150  35.7200  34.9650    34.9825   \n",
       "4  34.6700  33.8275    35.4175     35.3725  35.8950  35.5875    35.6175   \n",
       "\n",
       "   aveOralM  \n",
       "0     36.59  \n",
       "1     37.19  \n",
       "2     37.34  \n",
       "3     37.09  \n",
       "4     37.04  \n",
       "\n",
       "[5 rows x 34 columns]"
      ]
     },
     "execution_count": 123,
     "metadata": {},
     "output_type": "execute_result"
    }
   ],
   "source": [
    "df = pd.read_csv('https://raw.githubusercontent.com/farrelrassya/teachingMLDL/refs/heads/main/02.%20Deep%20Learning/Dataset/Infrared.csv')\n",
    "df.head()"
   ]
  },
  {
   "cell_type": "markdown",
   "id": "458029e5",
   "metadata": {},
   "source": [
    "## EDA"
   ]
  },
  {
   "cell_type": "markdown",
   "id": "74959e30",
   "metadata": {},
   "source": [
    "### Dataset Information"
   ]
  },
  {
   "cell_type": "code",
   "execution_count": 124,
   "id": "a20ca3c8",
   "metadata": {},
   "outputs": [
    {
     "name": "stdout",
     "output_type": "stream",
     "text": [
      "<class 'pandas.core.frame.DataFrame'>\n",
      "RangeIndex: 1020 entries, 0 to 1019\n",
      "Data columns (total 34 columns):\n",
      " #   Column       Non-Null Count  Dtype  \n",
      "---  ------       --------------  -----  \n",
      " 0   Gender       1020 non-null   object \n",
      " 1   Age          1020 non-null   object \n",
      " 2   Ethnicity    1020 non-null   object \n",
      " 3   T_atm        1020 non-null   float64\n",
      " 4   Humidity     1020 non-null   float64\n",
      " 5   Distance     1018 non-null   float64\n",
      " 6   T_offset1    1020 non-null   float64\n",
      " 7   Max1R13_1    1020 non-null   float64\n",
      " 8   Max1L13_1    1020 non-null   float64\n",
      " 9   aveAllR13_1  1020 non-null   float64\n",
      " 10  aveAllL13_1  1020 non-null   float64\n",
      " 11  T_RC1        1020 non-null   float64\n",
      " 12  T_RC_Dry1    1020 non-null   float64\n",
      " 13  T_RC_Wet1    1020 non-null   float64\n",
      " 14  T_RC_Max1    1020 non-null   float64\n",
      " 15  T_LC1        1020 non-null   float64\n",
      " 16  T_LC_Dry1    1020 non-null   float64\n",
      " 17  T_LC_Wet1    1020 non-null   float64\n",
      " 18  T_LC_Max1    1020 non-null   float64\n",
      " 19  RCC1         1020 non-null   float64\n",
      " 20  LCC1         1020 non-null   float64\n",
      " 21  canthiMax1   1020 non-null   float64\n",
      " 22  canthi4Max1  1020 non-null   float64\n",
      " 23  T_FHCC1      1020 non-null   float64\n",
      " 24  T_FHRC1      1020 non-null   float64\n",
      " 25  T_FHLC1      1020 non-null   float64\n",
      " 26  T_FHBC1      1020 non-null   float64\n",
      " 27  T_FHTC1      1020 non-null   float64\n",
      " 28  T_FH_Max1    1020 non-null   float64\n",
      " 29  T_FHC_Max1   1020 non-null   float64\n",
      " 30  T_Max1       1020 non-null   float64\n",
      " 31  T_OR1        1020 non-null   float64\n",
      " 32  T_OR_Max1    1020 non-null   float64\n",
      " 33  aveOralM     1020 non-null   float64\n",
      "dtypes: float64(31), object(3)\n",
      "memory usage: 271.1+ KB\n"
     ]
    }
   ],
   "source": [
    "df.info()"
   ]
  },
  {
   "cell_type": "code",
   "execution_count": 125,
   "id": "89aeada3",
   "metadata": {},
   "outputs": [
    {
     "data": {
      "application/vnd.microsoft.datawrangler.viewer.v0+json": {
       "columns": [
        {
         "name": "index",
         "rawType": "object",
         "type": "string"
        },
        {
         "name": "T_atm",
         "rawType": "float64",
         "type": "float"
        },
        {
         "name": "Humidity",
         "rawType": "float64",
         "type": "float"
        },
        {
         "name": "Distance",
         "rawType": "float64",
         "type": "float"
        },
        {
         "name": "T_offset1",
         "rawType": "float64",
         "type": "float"
        },
        {
         "name": "Max1R13_1",
         "rawType": "float64",
         "type": "float"
        },
        {
         "name": "Max1L13_1",
         "rawType": "float64",
         "type": "float"
        },
        {
         "name": "aveAllR13_1",
         "rawType": "float64",
         "type": "float"
        },
        {
         "name": "aveAllL13_1",
         "rawType": "float64",
         "type": "float"
        },
        {
         "name": "T_RC1",
         "rawType": "float64",
         "type": "float"
        },
        {
         "name": "T_RC_Dry1",
         "rawType": "float64",
         "type": "float"
        },
        {
         "name": "T_RC_Wet1",
         "rawType": "float64",
         "type": "float"
        },
        {
         "name": "T_RC_Max1",
         "rawType": "float64",
         "type": "float"
        },
        {
         "name": "T_LC1",
         "rawType": "float64",
         "type": "float"
        },
        {
         "name": "T_LC_Dry1",
         "rawType": "float64",
         "type": "float"
        },
        {
         "name": "T_LC_Wet1",
         "rawType": "float64",
         "type": "float"
        },
        {
         "name": "T_LC_Max1",
         "rawType": "float64",
         "type": "float"
        },
        {
         "name": "RCC1",
         "rawType": "float64",
         "type": "float"
        },
        {
         "name": "LCC1",
         "rawType": "float64",
         "type": "float"
        },
        {
         "name": "canthiMax1",
         "rawType": "float64",
         "type": "float"
        },
        {
         "name": "canthi4Max1",
         "rawType": "float64",
         "type": "float"
        },
        {
         "name": "T_FHCC1",
         "rawType": "float64",
         "type": "float"
        },
        {
         "name": "T_FHRC1",
         "rawType": "float64",
         "type": "float"
        },
        {
         "name": "T_FHLC1",
         "rawType": "float64",
         "type": "float"
        },
        {
         "name": "T_FHBC1",
         "rawType": "float64",
         "type": "float"
        },
        {
         "name": "T_FHTC1",
         "rawType": "float64",
         "type": "float"
        },
        {
         "name": "T_FH_Max1",
         "rawType": "float64",
         "type": "float"
        },
        {
         "name": "T_FHC_Max1",
         "rawType": "float64",
         "type": "float"
        },
        {
         "name": "T_Max1",
         "rawType": "float64",
         "type": "float"
        },
        {
         "name": "T_OR1",
         "rawType": "float64",
         "type": "float"
        },
        {
         "name": "T_OR_Max1",
         "rawType": "float64",
         "type": "float"
        },
        {
         "name": "aveOralM",
         "rawType": "float64",
         "type": "float"
        }
       ],
       "conversionMethod": "pd.DataFrame",
       "ref": "20cb5e1d-3829-4d6f-a82f-7b9ebff78a53",
       "rows": [
        [
         "count",
         "1020.0",
         "1020.0",
         "1018.0",
         "1020.0",
         "1020.0",
         "1020.0",
         "1020.0",
         "1020.0",
         "1020.0",
         "1020.0",
         "1020.0",
         "1020.0",
         "1020.0",
         "1020.0",
         "1020.0",
         "1020.0",
         "1020.0",
         "1020.0",
         "1020.0",
         "1020.0",
         "1020.0",
         "1020.0",
         "1020.0",
         "1020.0",
         "1020.0",
         "1020.0",
         "1020.0",
         "1020.0",
         "1020.0",
         "1020.0",
         "1020.0"
        ],
        [
         "mean",
         "24.11539215686275",
         "28.723039215686274",
         "0.7297838899803536",
         "0.9686478757647058",
         "35.596532679313725",
         "35.61147385607843",
         "34.88847467333333",
         "35.01134477117647",
         "35.65992075147059",
         "35.58714297362745",
         "35.5473145422549",
         "35.68976225460784",
         "35.64085130696078",
         "35.61086928127451",
         "35.46862418323529",
         "35.670962417745095",
         "35.253562908431384",
         "35.20896078431373",
         "35.787508986862754",
         "35.75802532647059",
         "34.57386519578431",
         "34.567781862843134",
         "34.565339869215684",
         "34.48770098058824",
         "34.57729330078431",
         "35.421554738333334",
         "35.094143790784315",
         "36.08478513078431",
         "35.80551879088236",
         "35.83827696078432",
         "37.02838235294117"
        ],
        [
         "std",
         "1.33633759872265",
         "13.071626809879215",
         "2.4564860370861084",
         "0.3625870469242976",
         "0.5748877956676165",
         "0.5497597769973828",
         "0.7186132074023852",
         "0.6338364678398126",
         "0.5538968024932955",
         "0.5692784093374555",
         "0.5688278352430944",
         "0.5535943034266125",
         "0.5411687285759965",
         "0.545645040014737",
         "0.5664340074271172",
         "0.5407483509289684",
         "0.6059675010616389",
         "0.5843930696983823",
         "0.533453215439008",
         "0.5333130178594854",
         "0.6724610599742276",
         "0.6694097138253262",
         "0.678663416580017",
         "0.6680646613783099",
         "0.7286784828599705",
         "0.5234774970623809",
         "0.5760445199780434",
         "0.49182084783343893",
         "0.5592583722987884",
         "0.5593161316755128",
         "0.5095022787133393"
        ],
        [
         "min",
         "20.2",
         "9.9",
         "0.54",
         "-0.59",
         "33.8975",
         "34.1225",
         "31.77",
         "32.9025",
         "33.985",
         "33.825",
         "33.9325",
         "34.0025",
         "34.105",
         "34.105",
         "33.73",
         "34.1225",
         "33.6175",
         "33.385",
         "34.375",
         "34.3525",
         "31.05",
         "31.4525",
         "31.6575",
         "31.28",
         "31.15",
         "33.4075",
         "32.44",
         "34.8925",
         "33.8025",
         "33.835",
         "35.54"
        ],
        [
         "25%",
         "23.4",
         "17.6",
         "0.6",
         "0.7725",
         "35.2475",
         "35.271875",
         "34.456250025",
         "34.651250000000005",
         "35.3325",
         "35.249375",
         "35.21",
         "35.36",
         "35.309375",
         "35.27875",
         "35.1275",
         "35.331875000000004",
         "34.886250000000004",
         "34.86375",
         "35.455",
         "35.426875",
         "34.213125000000005",
         "34.18",
         "34.1775",
         "34.096875",
         "34.225000025",
         "35.116875",
         "34.756458325",
         "35.775",
         "35.474375",
         "35.5",
         "36.7775"
        ],
        [
         "50%",
         "24.0",
         "26.3",
         "0.62",
         "0.94",
         "35.54875",
         "35.575",
         "34.915",
         "34.9975",
         "35.6025",
         "35.53375",
         "35.4825",
         "35.63125",
         "35.5975",
         "35.5725",
         "35.425",
         "35.62625",
         "35.20375",
         "35.1675",
         "35.713750000000005",
         "35.68625",
         "34.605",
         "34.5975",
         "34.6025",
         "34.51291665",
         "34.6225",
         "35.39125",
         "35.1",
         "36.0275",
         "35.79",
         "35.825",
         "36.94"
        ],
        [
         "75%",
         "24.7",
         "36.2",
         "0.7",
         "1.14",
         "35.8725",
         "35.883125",
         "35.3",
         "35.363125",
         "35.910624999999996",
         "35.855624999999996",
         "35.808125",
         "35.940625",
         "35.895",
         "35.863125",
         "35.755",
         "35.9225",
         "35.5625",
         "35.498125",
         "36.030625",
         "36.0025",
         "34.965625",
         "34.968125",
         "34.965",
         "34.878125",
         "35.0125",
         "35.675",
         "35.415",
         "36.28",
         "36.0875",
         "36.120625",
         "37.14"
        ],
        [
         "max",
         "29.1",
         "61.2",
         "79.0",
         "2.875",
         "38.405",
         "38.0425",
         "37.575",
         "37.68",
         "38.385",
         "38.38",
         "38.33",
         "38.4075",
         "38.0425",
         "38.0375",
         "37.96",
         "38.075",
         "38.155",
         "37.8275",
         "38.4075",
         "38.3825",
         "37.125",
         "37.075",
         "37.165",
         "37.2125",
         "37.3675",
         "38.0025",
         "37.6325",
         "38.8075",
         "38.4175",
         "38.455",
         "40.34"
        ]
       ],
       "shape": {
        "columns": 31,
        "rows": 8
       }
      },
      "text/html": [
       "<div>\n",
       "<style scoped>\n",
       "    .dataframe tbody tr th:only-of-type {\n",
       "        vertical-align: middle;\n",
       "    }\n",
       "\n",
       "    .dataframe tbody tr th {\n",
       "        vertical-align: top;\n",
       "    }\n",
       "\n",
       "    .dataframe thead th {\n",
       "        text-align: right;\n",
       "    }\n",
       "</style>\n",
       "<table border=\"1\" class=\"dataframe\">\n",
       "  <thead>\n",
       "    <tr style=\"text-align: right;\">\n",
       "      <th></th>\n",
       "      <th>T_atm</th>\n",
       "      <th>Humidity</th>\n",
       "      <th>Distance</th>\n",
       "      <th>T_offset1</th>\n",
       "      <th>Max1R13_1</th>\n",
       "      <th>Max1L13_1</th>\n",
       "      <th>aveAllR13_1</th>\n",
       "      <th>aveAllL13_1</th>\n",
       "      <th>T_RC1</th>\n",
       "      <th>T_RC_Dry1</th>\n",
       "      <th>...</th>\n",
       "      <th>T_FHRC1</th>\n",
       "      <th>T_FHLC1</th>\n",
       "      <th>T_FHBC1</th>\n",
       "      <th>T_FHTC1</th>\n",
       "      <th>T_FH_Max1</th>\n",
       "      <th>T_FHC_Max1</th>\n",
       "      <th>T_Max1</th>\n",
       "      <th>T_OR1</th>\n",
       "      <th>T_OR_Max1</th>\n",
       "      <th>aveOralM</th>\n",
       "    </tr>\n",
       "  </thead>\n",
       "  <tbody>\n",
       "    <tr>\n",
       "      <th>count</th>\n",
       "      <td>1020.000000</td>\n",
       "      <td>1020.000000</td>\n",
       "      <td>1018.000000</td>\n",
       "      <td>1020.000000</td>\n",
       "      <td>1020.000000</td>\n",
       "      <td>1020.000000</td>\n",
       "      <td>1020.000000</td>\n",
       "      <td>1020.000000</td>\n",
       "      <td>1020.000000</td>\n",
       "      <td>1020.000000</td>\n",
       "      <td>...</td>\n",
       "      <td>1020.000000</td>\n",
       "      <td>1020.000000</td>\n",
       "      <td>1020.000000</td>\n",
       "      <td>1020.000000</td>\n",
       "      <td>1020.000000</td>\n",
       "      <td>1020.000000</td>\n",
       "      <td>1020.000000</td>\n",
       "      <td>1020.000000</td>\n",
       "      <td>1020.000000</td>\n",
       "      <td>1020.000000</td>\n",
       "    </tr>\n",
       "    <tr>\n",
       "      <th>mean</th>\n",
       "      <td>24.115392</td>\n",
       "      <td>28.723039</td>\n",
       "      <td>0.729784</td>\n",
       "      <td>0.968648</td>\n",
       "      <td>35.596533</td>\n",
       "      <td>35.611474</td>\n",
       "      <td>34.888475</td>\n",
       "      <td>35.011345</td>\n",
       "      <td>35.659921</td>\n",
       "      <td>35.587143</td>\n",
       "      <td>...</td>\n",
       "      <td>34.567782</td>\n",
       "      <td>34.565340</td>\n",
       "      <td>34.487701</td>\n",
       "      <td>34.577293</td>\n",
       "      <td>35.421555</td>\n",
       "      <td>35.094144</td>\n",
       "      <td>36.084785</td>\n",
       "      <td>35.805519</td>\n",
       "      <td>35.838277</td>\n",
       "      <td>37.028382</td>\n",
       "    </tr>\n",
       "    <tr>\n",
       "      <th>std</th>\n",
       "      <td>1.336338</td>\n",
       "      <td>13.071627</td>\n",
       "      <td>2.456486</td>\n",
       "      <td>0.362587</td>\n",
       "      <td>0.574888</td>\n",
       "      <td>0.549760</td>\n",
       "      <td>0.718613</td>\n",
       "      <td>0.633836</td>\n",
       "      <td>0.553897</td>\n",
       "      <td>0.569278</td>\n",
       "      <td>...</td>\n",
       "      <td>0.669410</td>\n",
       "      <td>0.678663</td>\n",
       "      <td>0.668065</td>\n",
       "      <td>0.728678</td>\n",
       "      <td>0.523477</td>\n",
       "      <td>0.576045</td>\n",
       "      <td>0.491821</td>\n",
       "      <td>0.559258</td>\n",
       "      <td>0.559316</td>\n",
       "      <td>0.509502</td>\n",
       "    </tr>\n",
       "    <tr>\n",
       "      <th>min</th>\n",
       "      <td>20.200000</td>\n",
       "      <td>9.900000</td>\n",
       "      <td>0.540000</td>\n",
       "      <td>-0.590000</td>\n",
       "      <td>33.897500</td>\n",
       "      <td>34.122500</td>\n",
       "      <td>31.770000</td>\n",
       "      <td>32.902500</td>\n",
       "      <td>33.985000</td>\n",
       "      <td>33.825000</td>\n",
       "      <td>...</td>\n",
       "      <td>31.452500</td>\n",
       "      <td>31.657500</td>\n",
       "      <td>31.280000</td>\n",
       "      <td>31.150000</td>\n",
       "      <td>33.407500</td>\n",
       "      <td>32.440000</td>\n",
       "      <td>34.892500</td>\n",
       "      <td>33.802500</td>\n",
       "      <td>33.835000</td>\n",
       "      <td>35.540000</td>\n",
       "    </tr>\n",
       "    <tr>\n",
       "      <th>25%</th>\n",
       "      <td>23.400000</td>\n",
       "      <td>17.600000</td>\n",
       "      <td>0.600000</td>\n",
       "      <td>0.772500</td>\n",
       "      <td>35.247500</td>\n",
       "      <td>35.271875</td>\n",
       "      <td>34.456250</td>\n",
       "      <td>34.651250</td>\n",
       "      <td>35.332500</td>\n",
       "      <td>35.249375</td>\n",
       "      <td>...</td>\n",
       "      <td>34.180000</td>\n",
       "      <td>34.177500</td>\n",
       "      <td>34.096875</td>\n",
       "      <td>34.225000</td>\n",
       "      <td>35.116875</td>\n",
       "      <td>34.756458</td>\n",
       "      <td>35.775000</td>\n",
       "      <td>35.474375</td>\n",
       "      <td>35.500000</td>\n",
       "      <td>36.777500</td>\n",
       "    </tr>\n",
       "    <tr>\n",
       "      <th>50%</th>\n",
       "      <td>24.000000</td>\n",
       "      <td>26.300000</td>\n",
       "      <td>0.620000</td>\n",
       "      <td>0.940000</td>\n",
       "      <td>35.548750</td>\n",
       "      <td>35.575000</td>\n",
       "      <td>34.915000</td>\n",
       "      <td>34.997500</td>\n",
       "      <td>35.602500</td>\n",
       "      <td>35.533750</td>\n",
       "      <td>...</td>\n",
       "      <td>34.597500</td>\n",
       "      <td>34.602500</td>\n",
       "      <td>34.512917</td>\n",
       "      <td>34.622500</td>\n",
       "      <td>35.391250</td>\n",
       "      <td>35.100000</td>\n",
       "      <td>36.027500</td>\n",
       "      <td>35.790000</td>\n",
       "      <td>35.825000</td>\n",
       "      <td>36.940000</td>\n",
       "    </tr>\n",
       "    <tr>\n",
       "      <th>75%</th>\n",
       "      <td>24.700000</td>\n",
       "      <td>36.200000</td>\n",
       "      <td>0.700000</td>\n",
       "      <td>1.140000</td>\n",
       "      <td>35.872500</td>\n",
       "      <td>35.883125</td>\n",
       "      <td>35.300000</td>\n",
       "      <td>35.363125</td>\n",
       "      <td>35.910625</td>\n",
       "      <td>35.855625</td>\n",
       "      <td>...</td>\n",
       "      <td>34.968125</td>\n",
       "      <td>34.965000</td>\n",
       "      <td>34.878125</td>\n",
       "      <td>35.012500</td>\n",
       "      <td>35.675000</td>\n",
       "      <td>35.415000</td>\n",
       "      <td>36.280000</td>\n",
       "      <td>36.087500</td>\n",
       "      <td>36.120625</td>\n",
       "      <td>37.140000</td>\n",
       "    </tr>\n",
       "    <tr>\n",
       "      <th>max</th>\n",
       "      <td>29.100000</td>\n",
       "      <td>61.200000</td>\n",
       "      <td>79.000000</td>\n",
       "      <td>2.875000</td>\n",
       "      <td>38.405000</td>\n",
       "      <td>38.042500</td>\n",
       "      <td>37.575000</td>\n",
       "      <td>37.680000</td>\n",
       "      <td>38.385000</td>\n",
       "      <td>38.380000</td>\n",
       "      <td>...</td>\n",
       "      <td>37.075000</td>\n",
       "      <td>37.165000</td>\n",
       "      <td>37.212500</td>\n",
       "      <td>37.367500</td>\n",
       "      <td>38.002500</td>\n",
       "      <td>37.632500</td>\n",
       "      <td>38.807500</td>\n",
       "      <td>38.417500</td>\n",
       "      <td>38.455000</td>\n",
       "      <td>40.340000</td>\n",
       "    </tr>\n",
       "  </tbody>\n",
       "</table>\n",
       "<p>8 rows × 31 columns</p>\n",
       "</div>"
      ],
      "text/plain": [
       "             T_atm     Humidity     Distance    T_offset1    Max1R13_1  \\\n",
       "count  1020.000000  1020.000000  1018.000000  1020.000000  1020.000000   \n",
       "mean     24.115392    28.723039     0.729784     0.968648    35.596533   \n",
       "std       1.336338    13.071627     2.456486     0.362587     0.574888   \n",
       "min      20.200000     9.900000     0.540000    -0.590000    33.897500   \n",
       "25%      23.400000    17.600000     0.600000     0.772500    35.247500   \n",
       "50%      24.000000    26.300000     0.620000     0.940000    35.548750   \n",
       "75%      24.700000    36.200000     0.700000     1.140000    35.872500   \n",
       "max      29.100000    61.200000    79.000000     2.875000    38.405000   \n",
       "\n",
       "         Max1L13_1  aveAllR13_1  aveAllL13_1        T_RC1    T_RC_Dry1  ...  \\\n",
       "count  1020.000000  1020.000000  1020.000000  1020.000000  1020.000000  ...   \n",
       "mean     35.611474    34.888475    35.011345    35.659921    35.587143  ...   \n",
       "std       0.549760     0.718613     0.633836     0.553897     0.569278  ...   \n",
       "min      34.122500    31.770000    32.902500    33.985000    33.825000  ...   \n",
       "25%      35.271875    34.456250    34.651250    35.332500    35.249375  ...   \n",
       "50%      35.575000    34.915000    34.997500    35.602500    35.533750  ...   \n",
       "75%      35.883125    35.300000    35.363125    35.910625    35.855625  ...   \n",
       "max      38.042500    37.575000    37.680000    38.385000    38.380000  ...   \n",
       "\n",
       "           T_FHRC1      T_FHLC1      T_FHBC1      T_FHTC1    T_FH_Max1  \\\n",
       "count  1020.000000  1020.000000  1020.000000  1020.000000  1020.000000   \n",
       "mean     34.567782    34.565340    34.487701    34.577293    35.421555   \n",
       "std       0.669410     0.678663     0.668065     0.728678     0.523477   \n",
       "min      31.452500    31.657500    31.280000    31.150000    33.407500   \n",
       "25%      34.180000    34.177500    34.096875    34.225000    35.116875   \n",
       "50%      34.597500    34.602500    34.512917    34.622500    35.391250   \n",
       "75%      34.968125    34.965000    34.878125    35.012500    35.675000   \n",
       "max      37.075000    37.165000    37.212500    37.367500    38.002500   \n",
       "\n",
       "        T_FHC_Max1       T_Max1        T_OR1    T_OR_Max1     aveOralM  \n",
       "count  1020.000000  1020.000000  1020.000000  1020.000000  1020.000000  \n",
       "mean     35.094144    36.084785    35.805519    35.838277    37.028382  \n",
       "std       0.576045     0.491821     0.559258     0.559316     0.509502  \n",
       "min      32.440000    34.892500    33.802500    33.835000    35.540000  \n",
       "25%      34.756458    35.775000    35.474375    35.500000    36.777500  \n",
       "50%      35.100000    36.027500    35.790000    35.825000    36.940000  \n",
       "75%      35.415000    36.280000    36.087500    36.120625    37.140000  \n",
       "max      37.632500    38.807500    38.417500    38.455000    40.340000  \n",
       "\n",
       "[8 rows x 31 columns]"
      ]
     },
     "execution_count": 125,
     "metadata": {},
     "output_type": "execute_result"
    }
   ],
   "source": [
    "df.describe()"
   ]
  },
  {
   "cell_type": "code",
   "execution_count": 126,
   "id": "6483298c",
   "metadata": {},
   "outputs": [
    {
     "data": {
      "application/vnd.microsoft.datawrangler.viewer.v0+json": {
       "columns": [
        {
         "name": "index",
         "rawType": "object",
         "type": "string"
        },
        {
         "name": "Gender",
         "rawType": "object",
         "type": "unknown"
        },
        {
         "name": "Age",
         "rawType": "object",
         "type": "unknown"
        },
        {
         "name": "Ethnicity",
         "rawType": "object",
         "type": "unknown"
        }
       ],
       "conversionMethod": "pd.DataFrame",
       "ref": "043bb5c5-1b06-4cc3-966f-609d6fe0cedf",
       "rows": [
        [
         "count",
         "1020",
         "1020",
         "1020"
        ],
        [
         "unique",
         "2",
         "8",
         "6"
        ],
        [
         "top",
         "Female",
         "18-20",
         "White"
        ],
        [
         "freq",
         "606",
         "534",
         "506"
        ]
       ],
       "shape": {
        "columns": 3,
        "rows": 4
       }
      },
      "text/html": [
       "<div>\n",
       "<style scoped>\n",
       "    .dataframe tbody tr th:only-of-type {\n",
       "        vertical-align: middle;\n",
       "    }\n",
       "\n",
       "    .dataframe tbody tr th {\n",
       "        vertical-align: top;\n",
       "    }\n",
       "\n",
       "    .dataframe thead th {\n",
       "        text-align: right;\n",
       "    }\n",
       "</style>\n",
       "<table border=\"1\" class=\"dataframe\">\n",
       "  <thead>\n",
       "    <tr style=\"text-align: right;\">\n",
       "      <th></th>\n",
       "      <th>Gender</th>\n",
       "      <th>Age</th>\n",
       "      <th>Ethnicity</th>\n",
       "    </tr>\n",
       "  </thead>\n",
       "  <tbody>\n",
       "    <tr>\n",
       "      <th>count</th>\n",
       "      <td>1020</td>\n",
       "      <td>1020</td>\n",
       "      <td>1020</td>\n",
       "    </tr>\n",
       "    <tr>\n",
       "      <th>unique</th>\n",
       "      <td>2</td>\n",
       "      <td>8</td>\n",
       "      <td>6</td>\n",
       "    </tr>\n",
       "    <tr>\n",
       "      <th>top</th>\n",
       "      <td>Female</td>\n",
       "      <td>18-20</td>\n",
       "      <td>White</td>\n",
       "    </tr>\n",
       "    <tr>\n",
       "      <th>freq</th>\n",
       "      <td>606</td>\n",
       "      <td>534</td>\n",
       "      <td>506</td>\n",
       "    </tr>\n",
       "  </tbody>\n",
       "</table>\n",
       "</div>"
      ],
      "text/plain": [
       "        Gender    Age Ethnicity\n",
       "count     1020   1020      1020\n",
       "unique       2      8         6\n",
       "top     Female  18-20     White\n",
       "freq       606    534       506"
      ]
     },
     "execution_count": 126,
     "metadata": {},
     "output_type": "execute_result"
    }
   ],
   "source": [
    "df.describe(include = 'object')"
   ]
  },
  {
   "cell_type": "markdown",
   "id": "38e41a68",
   "metadata": {},
   "source": [
    "## Feature Engineering"
   ]
  },
  {
   "cell_type": "markdown",
   "id": "d0f62861",
   "metadata": {},
   "source": [
    "### Grouping features into Numerical and Categorical Features"
   ]
  },
  {
   "cell_type": "code",
   "execution_count": 127,
   "id": "73ce6c66",
   "metadata": {},
   "outputs": [
    {
     "name": "stdout",
     "output_type": "stream",
     "text": [
      "Index(['T_atm', 'Humidity', 'Distance', 'T_offset1', 'Max1R13_1', 'Max1L13_1',\n",
      "       'aveAllR13_1', 'aveAllL13_1', 'T_RC1', 'T_RC_Dry1', 'T_RC_Wet1',\n",
      "       'T_RC_Max1', 'T_LC1', 'T_LC_Dry1', 'T_LC_Wet1', 'T_LC_Max1', 'RCC1',\n",
      "       'LCC1', 'canthiMax1', 'canthi4Max1', 'T_FHCC1', 'T_FHRC1', 'T_FHLC1',\n",
      "       'T_FHBC1', 'T_FHTC1', 'T_FH_Max1', 'T_FHC_Max1', 'T_Max1', 'T_OR1',\n",
      "       'T_OR_Max1', 'aveOralM'],\n",
      "      dtype='object')\n",
      "\n",
      "Index(['Gender', 'Age', 'Ethnicity'], dtype='object')\n"
     ]
    }
   ],
   "source": [
    "numerical = df.select_dtypes(include = ['int64', 'float64']).columns\n",
    "categorical = df.select_dtypes(include = ['object']).columns\n",
    "\n",
    "print(numerical)\n",
    "print()\n",
    "print(categorical)"
   ]
  },
  {
   "cell_type": "markdown",
   "id": "ad2a58c9",
   "metadata": {},
   "source": [
    "### Dealing with Missing Values"
   ]
  },
  {
   "cell_type": "code",
   "execution_count": 128,
   "id": "2427723b",
   "metadata": {},
   "outputs": [
    {
     "data": {
      "text/plain": [
       "Gender         0\n",
       "Age            0\n",
       "Ethnicity      0\n",
       "T_atm          0\n",
       "Humidity       0\n",
       "Distance       2\n",
       "T_offset1      0\n",
       "Max1R13_1      0\n",
       "Max1L13_1      0\n",
       "aveAllR13_1    0\n",
       "aveAllL13_1    0\n",
       "T_RC1          0\n",
       "T_RC_Dry1      0\n",
       "T_RC_Wet1      0\n",
       "T_RC_Max1      0\n",
       "T_LC1          0\n",
       "T_LC_Dry1      0\n",
       "T_LC_Wet1      0\n",
       "T_LC_Max1      0\n",
       "RCC1           0\n",
       "LCC1           0\n",
       "canthiMax1     0\n",
       "canthi4Max1    0\n",
       "T_FHCC1        0\n",
       "T_FHRC1        0\n",
       "T_FHLC1        0\n",
       "T_FHBC1        0\n",
       "T_FHTC1        0\n",
       "T_FH_Max1      0\n",
       "T_FHC_Max1     0\n",
       "T_Max1         0\n",
       "T_OR1          0\n",
       "T_OR_Max1      0\n",
       "aveOralM       0\n",
       "dtype: int64"
      ]
     },
     "execution_count": 128,
     "metadata": {},
     "output_type": "execute_result"
    }
   ],
   "source": [
    "# Check for missing values\n",
    "df.isnull().sum()"
   ]
  },
  {
   "cell_type": "code",
   "execution_count": 129,
   "id": "7596ad1f",
   "metadata": {},
   "outputs": [
    {
     "data": {
      "text/plain": [
       "Gender         0\n",
       "Age            0\n",
       "Ethnicity      0\n",
       "T_atm          0\n",
       "Humidity       0\n",
       "Distance       0\n",
       "T_offset1      0\n",
       "Max1R13_1      0\n",
       "Max1L13_1      0\n",
       "aveAllR13_1    0\n",
       "aveAllL13_1    0\n",
       "T_RC1          0\n",
       "T_RC_Dry1      0\n",
       "T_RC_Wet1      0\n",
       "T_RC_Max1      0\n",
       "T_LC1          0\n",
       "T_LC_Dry1      0\n",
       "T_LC_Wet1      0\n",
       "T_LC_Max1      0\n",
       "RCC1           0\n",
       "LCC1           0\n",
       "canthiMax1     0\n",
       "canthi4Max1    0\n",
       "T_FHCC1        0\n",
       "T_FHRC1        0\n",
       "T_FHLC1        0\n",
       "T_FHBC1        0\n",
       "T_FHTC1        0\n",
       "T_FH_Max1      0\n",
       "T_FHC_Max1     0\n",
       "T_Max1         0\n",
       "T_OR1          0\n",
       "T_OR_Max1      0\n",
       "aveOralM       0\n",
       "dtype: int64"
      ]
     },
     "execution_count": 129,
     "metadata": {},
     "output_type": "execute_result"
    }
   ],
   "source": [
    "from sklearn.impute import SimpleImputer\n",
    "\n",
    "# Impute numerical columns with median\n",
    "num_imputer = SimpleImputer(strategy='median')\n",
    "df[numerical] = num_imputer.fit_transform(df[numerical])\n",
    "\n",
    "# Impute categorical columns with mode\n",
    "cat_imputer = SimpleImputer(strategy='most_frequent')\n",
    "df[categorical] = cat_imputer.fit_transform(df[categorical])\n",
    "\n",
    "# Check for missing values again\n",
    "df.isnull().sum()"
   ]
  },
  {
   "cell_type": "markdown",
   "id": "ca2b2f44",
   "metadata": {},
   "source": [
    "### Label Encoding for Categorical Values"
   ]
  },
  {
   "cell_type": "code",
   "execution_count": 130,
   "id": "5ff007e0",
   "metadata": {},
   "outputs": [
    {
     "name": "stdout",
     "output_type": "stream",
     "text": [
      "Gender: ['Male' 'Female']\n",
      "Age: ['41-50' '31-40' '21-30' '18-20' '26-30' '21-25' '>60' '51-60']\n",
      "Ethnicity: ['White' 'Black or African-American' 'Asian' 'Multiracial'\n",
      " 'Hispanic/Latino' 'American Indian or Alaskan Native']\n"
     ]
    }
   ],
   "source": [
    "# Check for Unique Values in Categorical Columns\n",
    "for col in categorical:\n",
    "    print(f\"{col}: {df[col].unique()}\")"
   ]
  },
  {
   "cell_type": "code",
   "execution_count": 131,
   "id": "2c3a14ed",
   "metadata": {},
   "outputs": [
    {
     "name": "stdout",
     "output_type": "stream",
     "text": [
      "Gender: ['Male' 'Female']\n",
      "Age: ['41-50' '31-40' '21-30' '18-20' '>60' '51-60']\n",
      "Ethnicity: ['White' 'Black or African-American' 'Asian' 'Multiracial'\n",
      " 'Hispanic/Latino' 'American Indian or Alaskan Native']\n"
     ]
    }
   ],
   "source": [
    "# Convert '21-25' and '26-30' to '21-30'\n",
    "df['Age'] = df['Age'].replace({'21-25': '21-30', '26-30': '21-30'})\n",
    "\n",
    "# Check for Unique Values again\n",
    "for col in categorical:\n",
    "    print(f\"{col}: {df[col].unique()}\")"
   ]
  },
  {
   "cell_type": "code",
   "execution_count": 132,
   "id": "34eb0d6c",
   "metadata": {},
   "outputs": [
    {
     "name": "stdout",
     "output_type": "stream",
     "text": [
      "Gender: [1 0]\n",
      "Age: [3 2 1 0 5 4]\n",
      "Ethnicity: [5 2 1 4 3 0]\n"
     ]
    }
   ],
   "source": [
    "# Convert categorical values using Label Encoding\n",
    "from sklearn.preprocessing import LabelEncoder\n",
    "from sklearn.preprocessing import OrdinalEncoder\n",
    "\n",
    "le = LabelEncoder()\n",
    "categorical = categorical.drop(['Age'])\n",
    "\n",
    "for col in categorical:\n",
    "    df[col] = le.fit_transform(df[col])\n",
    "\n",
    "oe = OrdinalEncoder(categories=[['18-20', '21-30', '31-40', '41-50', '51-60', '>60']])\n",
    "df['Age'] = oe.fit_transform(df[['Age']])\n",
    "\n",
    "# Karena hasil default OrdinalEncoder adalah float, ganti ke integer\n",
    "for col in ['Gender', 'Age', 'Ethnicity']:\n",
    "    df[col] = df[col].astype(int)\n",
    "\n",
    "# Check for Unique Values again\n",
    "for col in ['Gender', 'Age', 'Ethnicity']:\n",
    "    print(f\"{col}: {df[col].unique()}\")"
   ]
  },
  {
   "cell_type": "code",
   "execution_count": 133,
   "id": "e8d3db2c",
   "metadata": {},
   "outputs": [
    {
     "name": "stdout",
     "output_type": "stream",
     "text": [
      "<class 'pandas.core.frame.DataFrame'>\n",
      "RangeIndex: 1020 entries, 0 to 1019\n",
      "Data columns (total 34 columns):\n",
      " #   Column       Non-Null Count  Dtype  \n",
      "---  ------       --------------  -----  \n",
      " 0   Gender       1020 non-null   int32  \n",
      " 1   Age          1020 non-null   int32  \n",
      " 2   Ethnicity    1020 non-null   int32  \n",
      " 3   T_atm        1020 non-null   float64\n",
      " 4   Humidity     1020 non-null   float64\n",
      " 5   Distance     1020 non-null   float64\n",
      " 6   T_offset1    1020 non-null   float64\n",
      " 7   Max1R13_1    1020 non-null   float64\n",
      " 8   Max1L13_1    1020 non-null   float64\n",
      " 9   aveAllR13_1  1020 non-null   float64\n",
      " 10  aveAllL13_1  1020 non-null   float64\n",
      " 11  T_RC1        1020 non-null   float64\n",
      " 12  T_RC_Dry1    1020 non-null   float64\n",
      " 13  T_RC_Wet1    1020 non-null   float64\n",
      " 14  T_RC_Max1    1020 non-null   float64\n",
      " 15  T_LC1        1020 non-null   float64\n",
      " 16  T_LC_Dry1    1020 non-null   float64\n",
      " 17  T_LC_Wet1    1020 non-null   float64\n",
      " 18  T_LC_Max1    1020 non-null   float64\n",
      " 19  RCC1         1020 non-null   float64\n",
      " 20  LCC1         1020 non-null   float64\n",
      " 21  canthiMax1   1020 non-null   float64\n",
      " 22  canthi4Max1  1020 non-null   float64\n",
      " 23  T_FHCC1      1020 non-null   float64\n",
      " 24  T_FHRC1      1020 non-null   float64\n",
      " 25  T_FHLC1      1020 non-null   float64\n",
      " 26  T_FHBC1      1020 non-null   float64\n",
      " 27  T_FHTC1      1020 non-null   float64\n",
      " 28  T_FH_Max1    1020 non-null   float64\n",
      " 29  T_FHC_Max1   1020 non-null   float64\n",
      " 30  T_Max1       1020 non-null   float64\n",
      " 31  T_OR1        1020 non-null   float64\n",
      " 32  T_OR_Max1    1020 non-null   float64\n",
      " 33  aveOralM     1020 non-null   float64\n",
      "dtypes: float64(31), int32(3)\n",
      "memory usage: 259.1 KB\n"
     ]
    }
   ],
   "source": [
    "# Check for data types\n",
    "df.info()"
   ]
  },
  {
   "cell_type": "markdown",
   "id": "79614e73",
   "metadata": {},
   "source": [
    "### Correlation"
   ]
  },
  {
   "cell_type": "code",
   "execution_count": 134,
   "id": "496d5152",
   "metadata": {},
   "outputs": [],
   "source": [
    "# # Calculate the correlation in absolute value\n",
    "# correlation = df.corr()['aveOralM'].abs().sort_values(ascending=False)\n",
    "\n",
    "# # Pick the top 20 features with the highest correlation with the target variable\n",
    "# # Ignore the target coulmn itself\n",
    "# top_20_features = correlation[1:21]  \n",
    "# print(top_20_features)\n",
    "\n",
    "# # Dataset with only the top 20 features and the target variable\n",
    "# selected_columns = top_20_features.index.tolist() + ['aveOralM']\n",
    "# df_top_20 = df[selected_columns]"
   ]
  },
  {
   "cell_type": "markdown",
   "id": "e9442904",
   "metadata": {},
   "source": [
    "## Input for Model"
   ]
  },
  {
   "cell_type": "markdown",
   "id": "95aa6228",
   "metadata": {},
   "source": [
    "### Splitting the Data"
   ]
  },
  {
   "cell_type": "code",
   "execution_count": 135,
   "id": "44336689",
   "metadata": {},
   "outputs": [],
   "source": [
    "X = df.drop(columns=['aveOralM'])\n",
    "y = df['aveOralM']\n",
    "\n",
    "from sklearn.model_selection import train_test_split\n",
    "X_train, X_test, y_train, y_test = train_test_split(X, y, test_size=0.2, random_state=42)"
   ]
  },
  {
   "cell_type": "markdown",
   "id": "f60e68e9",
   "metadata": {},
   "source": [
    "## XG Boost Regressor"
   ]
  },
  {
   "cell_type": "markdown",
   "id": "ab970ac8",
   "metadata": {},
   "source": [
    "### Base Model"
   ]
  },
  {
   "cell_type": "code",
   "execution_count": 136,
   "id": "c7733dd3",
   "metadata": {},
   "outputs": [],
   "source": [
    "from sklearn.metrics import mean_squared_error, r2_score\n",
    "\n",
    "def training (model, X_train, y_train):\n",
    "    # Training the model\n",
    "    model.fit(X_train, y_train)\n",
    "\n",
    "    # Predict the value\n",
    "    y_pred = model.predict(X_test)\n",
    "\n",
    "    # Evaluate the model\n",
    "    mse_xgb = mean_squared_error(y_test, y_pred)\n",
    "    rmse_xgb = np.sqrt(mse_xgb)\n",
    "    r2_xgb = r2_score(y_test, y_pred)\n",
    "\n",
    "\n",
    "    print(f\"Mean Squared Error (MSE) XGBoost: {mse_xgb}\")\n",
    "    print(f\"Root Mean Squared Error (RMSE) XGBoost: {rmse_xgb}\")\n",
    "    print(f\"R-squared (R2) XGBoost: {r2_xgb}\")\n",
    "\n",
    "    # Visualize the results\n",
    "    plt.figure(figsize=(8, 6))\n",
    "    plt.scatter(y_test, y_pred, alpha=0.7, color='tomato')\n",
    "    plt.plot([y_test.min(), y_test.max()], [y_test.min(), y_test.max()], color='red', linestyle='--', linewidth=2)\n",
    "    plt.xlabel('Actual Values')\n",
    "    plt.ylabel('Predicted Values')\n",
    "    plt.title('Regression: Actual vs Predicted')\n",
    "    plt.grid(True)\n",
    "    plt.show()"
   ]
  },
  {
   "cell_type": "code",
   "execution_count": 137,
   "id": "ff90df77",
   "metadata": {},
   "outputs": [
    {
     "name": "stdout",
     "output_type": "stream",
     "text": [
      "Mean Squared Error (MSE) XGBoost: 0.06292046011845333\n",
      "Root Mean Squared Error (RMSE) XGBoost: 0.25083951068054117\n",
      "R-squared (R2) XGBoost: 0.7011928482170773\n"
     ]
    },
    {
     "data": {
      "image/png": "[encoded data removed]",
      "text/plain": [
       "<Figure size 800x600 with 1 Axes>"
      ]
     },
     "metadata": {},
     "output_type": "display_data"
    }
   ],
   "source": [
    "from xgboost import XGBRegressor\n",
    "\n",
    "model = XGBRegressor(random_state=42, objective='reg:squarederror')\n",
    "training(model, X_train, y_train)"
   ]
  },
  {
   "cell_type": "markdown",
   "id": "b2e54c65",
   "metadata": {},
   "source": [
    "### Hyperparameter Tuning"
   ]
  },
  {
   "cell_type": "code",
   "execution_count": 138,
   "id": "a1c1e142",
   "metadata": {},
   "outputs": [
    {
     "name": "stderr",
     "output_type": "stream",
     "text": [
      "[I 2025-05-08 00:09:09,097] A new study created in memory with name: no-name-a2c9b53c-1a51-4fa1-89ff-78f3bc0b1c52\n",
      "c:\\Users\\Chandra Aulia H\\AppData\\Local\\Programs\\Python\\Python311\\Lib\\site-packages\\sklearn\\metrics\\_regression.py:492: FutureWarning: 'squared' is deprecated in version 1.4 and will be removed in 1.6. To calculate the root mean squared error, use the function'root_mean_squared_error'.\n",
      "  warnings.warn(\n",
      "[I 2025-05-08 00:09:09,697] Trial 0 finished with value: 0.23425643832090273 and parameters: {'n_estimators': 760, 'max_depth': 4, 'learning_rate': 0.060136950555168524, 'subsample': 0.571292064059879, 'colsample_bytree': 0.6131782800225768, 'gamma': 4.1210745756484615, 'min_child_weight': 1}. Best is trial 0 with value: 0.23425643832090273.\n",
      "c:\\Users\\Chandra Aulia H\\AppData\\Local\\Programs\\Python\\Python311\\Lib\\site-packages\\sklearn\\metrics\\_regression.py:492: FutureWarning: 'squared' is deprecated in version 1.4 and will be removed in 1.6. To calculate the root mean squared error, use the function'root_mean_squared_error'.\n",
      "  warnings.warn(\n",
      "[I 2025-05-08 00:09:09,964] Trial 1 finished with value: 0.2300966907959145 and parameters: {'n_estimators': 319, 'max_depth': 9, 'learning_rate': 0.18203022722268408, 'subsample': 0.604956617666851, 'colsample_bytree': 0.8283423994186838, 'gamma': 0.9260654360676462, 'min_child_weight': 2}. Best is trial 1 with value: 0.2300966907959145.\n",
      "c:\\Users\\Chandra Aulia H\\AppData\\Local\\Programs\\Python\\Python311\\Lib\\site-packages\\sklearn\\metrics\\_regression.py:492: FutureWarning: 'squared' is deprecated in version 1.4 and will be removed in 1.6. To calculate the root mean squared error, use the function'root_mean_squared_error'.\n",
      "  warnings.warn(\n",
      "[I 2025-05-08 00:09:10,374] Trial 2 finished with value: 0.22530556458865844 and parameters: {'n_estimators': 205, 'max_depth': 7, 'learning_rate': 0.015310503138612656, 'subsample': 0.6402846299665004, 'colsample_bytree': 0.945835545330697, 'gamma': 0.2988436723974819, 'min_child_weight': 8}. Best is trial 2 with value: 0.22530556458865844.\n",
      "c:\\Users\\Chandra Aulia H\\AppData\\Local\\Programs\\Python\\Python311\\Lib\\site-packages\\sklearn\\metrics\\_regression.py:492: FutureWarning: 'squared' is deprecated in version 1.4 and will be removed in 1.6. To calculate the root mean squared error, use the function'root_mean_squared_error'.\n",
      "  warnings.warn(\n",
      "[I 2025-05-08 00:09:10,539] Trial 3 finished with value: 0.2267830768896616 and parameters: {'n_estimators': 165, 'max_depth': 8, 'learning_rate': 0.0632224988780628, 'subsample': 0.8026572181539353, 'colsample_bytree': 0.828292506298721, 'gamma': 0.7999756942710651, 'min_child_weight': 2}. Best is trial 2 with value: 0.22530556458865844.\n",
      "c:\\Users\\Chandra Aulia H\\AppData\\Local\\Programs\\Python\\Python311\\Lib\\site-packages\\sklearn\\metrics\\_regression.py:492: FutureWarning: 'squared' is deprecated in version 1.4 and will be removed in 1.6. To calculate the root mean squared error, use the function'root_mean_squared_error'.\n",
      "  warnings.warn(\n",
      "[I 2025-05-08 00:09:11,197] Trial 4 finished with value: 0.22416920623282757 and parameters: {'n_estimators': 653, 'max_depth': 9, 'learning_rate': 0.04237498989543471, 'subsample': 0.5922975085032431, 'colsample_bytree': 0.6865088453379703, 'gamma': 0.481964191579084, 'min_child_weight': 7}. Best is trial 4 with value: 0.22416920623282757.\n",
      "c:\\Users\\Chandra Aulia H\\AppData\\Local\\Programs\\Python\\Python311\\Lib\\site-packages\\sklearn\\metrics\\_regression.py:492: FutureWarning: 'squared' is deprecated in version 1.4 and will be removed in 1.6. To calculate the root mean squared error, use the function'root_mean_squared_error'.\n",
      "  warnings.warn(\n",
      "[I 2025-05-08 00:09:11,468] Trial 5 finished with value: 0.24139377566453837 and parameters: {'n_estimators': 337, 'max_depth': 6, 'learning_rate': 0.2913854393380107, 'subsample': 0.9381652206274694, 'colsample_bytree': 0.7081007340787147, 'gamma': 0.24142339278421354, 'min_child_weight': 9}. Best is trial 4 with value: 0.22416920623282757.\n",
      "c:\\Users\\Chandra Aulia H\\AppData\\Local\\Programs\\Python\\Python311\\Lib\\site-packages\\sklearn\\metrics\\_regression.py:492: FutureWarning: 'squared' is deprecated in version 1.4 and will be removed in 1.6. To calculate the root mean squared error, use the function'root_mean_squared_error'.\n",
      "  warnings.warn(\n",
      "[I 2025-05-08 00:09:12,212] Trial 6 finished with value: 0.23199964872930978 and parameters: {'n_estimators': 812, 'max_depth': 7, 'learning_rate': 0.08117096220972357, 'subsample': 0.6637227030911751, 'colsample_bytree': 0.8910592167741493, 'gamma': 0.12122992509947583, 'min_child_weight': 6}. Best is trial 4 with value: 0.22416920623282757.\n",
      "c:\\Users\\Chandra Aulia H\\AppData\\Local\\Programs\\Python\\Python311\\Lib\\site-packages\\sklearn\\metrics\\_regression.py:492: FutureWarning: 'squared' is deprecated in version 1.4 and will be removed in 1.6. To calculate the root mean squared error, use the function'root_mean_squared_error'.\n",
      "  warnings.warn(\n",
      "[I 2025-05-08 00:09:12,397] Trial 7 finished with value: 0.2412142807762117 and parameters: {'n_estimators': 264, 'max_depth': 10, 'learning_rate': 0.21607712715549285, 'subsample': 0.696691231473932, 'colsample_bytree': 0.8094324972233466, 'gamma': 4.137923375944738, 'min_child_weight': 8}. Best is trial 4 with value: 0.22416920623282757.\n",
      "c:\\Users\\Chandra Aulia H\\AppData\\Local\\Programs\\Python\\Python311\\Lib\\site-packages\\sklearn\\metrics\\_regression.py:492: FutureWarning: 'squared' is deprecated in version 1.4 and will be removed in 1.6. To calculate the root mean squared error, use the function'root_mean_squared_error'.\n",
      "  warnings.warn(\n",
      "[I 2025-05-08 00:09:12,804] Trial 8 finished with value: 0.2387937637943918 and parameters: {'n_estimators': 569, 'max_depth': 4, 'learning_rate': 0.07726772445573782, 'subsample': 0.8654703418267697, 'colsample_bytree': 0.8397527534277177, 'gamma': 4.81450274772776, 'min_child_weight': 2}. Best is trial 4 with value: 0.22416920623282757.\n",
      "c:\\Users\\Chandra Aulia H\\AppData\\Local\\Programs\\Python\\Python311\\Lib\\site-packages\\sklearn\\metrics\\_regression.py:492: FutureWarning: 'squared' is deprecated in version 1.4 and will be removed in 1.6. To calculate the root mean squared error, use the function'root_mean_squared_error'.\n",
      "  warnings.warn(\n",
      "[I 2025-05-08 00:09:13,200] Trial 9 finished with value: 0.24751313824804355 and parameters: {'n_estimators': 628, 'max_depth': 4, 'learning_rate': 0.19803417644101362, 'subsample': 0.6086911788242275, 'colsample_bytree': 0.5564907481077974, 'gamma': 3.4332240957965565, 'min_child_weight': 8}. Best is trial 4 with value: 0.22416920623282757.\n",
      "c:\\Users\\Chandra Aulia H\\AppData\\Local\\Programs\\Python\\Python311\\Lib\\site-packages\\sklearn\\metrics\\_regression.py:492: FutureWarning: 'squared' is deprecated in version 1.4 and will be removed in 1.6. To calculate the root mean squared error, use the function'root_mean_squared_error'.\n",
      "  warnings.warn(\n",
      "[I 2025-05-08 00:09:14,003] Trial 10 finished with value: 0.2353586292183269 and parameters: {'n_estimators': 908, 'max_depth': 10, 'learning_rate': 0.13182792431374574, 'subsample': 0.5233174226813424, 'colsample_bytree': 0.7004144270816394, 'gamma': 1.90265796124877, 'min_child_weight': 5}. Best is trial 4 with value: 0.22416920623282757.\n",
      "c:\\Users\\Chandra Aulia H\\AppData\\Local\\Programs\\Python\\Python311\\Lib\\site-packages\\sklearn\\metrics\\_regression.py:492: FutureWarning: 'squared' is deprecated in version 1.4 and will be removed in 1.6. To calculate the root mean squared error, use the function'root_mean_squared_error'.\n",
      "  warnings.warn(\n",
      "[I 2025-05-08 00:09:14,461] Trial 11 finished with value: 0.23116317943719272 and parameters: {'n_estimators': 453, 'max_depth': 6, 'learning_rate': 0.01964647109245367, 'subsample': 0.7468170191096026, 'colsample_bytree': 0.9797994170751432, 'gamma': 1.8155106573408015, 'min_child_weight': 6}. Best is trial 4 with value: 0.22416920623282757.\n",
      "c:\\Users\\Chandra Aulia H\\AppData\\Local\\Programs\\Python\\Python311\\Lib\\site-packages\\sklearn\\metrics\\_regression.py:492: FutureWarning: 'squared' is deprecated in version 1.4 and will be removed in 1.6. To calculate the root mean squared error, use the function'root_mean_squared_error'.\n",
      "  warnings.warn(\n",
      "[I 2025-05-08 00:09:15,065] Trial 12 finished with value: 0.22891511645773216 and parameters: {'n_estimators': 666, 'max_depth': 8, 'learning_rate': 0.017494972777593827, 'subsample': 0.5067573102360443, 'colsample_bytree': 0.9603532159397641, 'gamma': 1.3468980503951677, 'min_child_weight': 10}. Best is trial 4 with value: 0.22416920623282757.\n",
      "c:\\Users\\Chandra Aulia H\\AppData\\Local\\Programs\\Python\\Python311\\Lib\\site-packages\\sklearn\\metrics\\_regression.py:492: FutureWarning: 'squared' is deprecated in version 1.4 and will be removed in 1.6. To calculate the root mean squared error, use the function'root_mean_squared_error'.\n",
      "  warnings.warn(\n",
      "[I 2025-05-08 00:09:15,449] Trial 13 finished with value: 0.23186159506401705 and parameters: {'n_estimators': 435, 'max_depth': 8, 'learning_rate': 0.11707503120858634, 'subsample': 0.6720621788661492, 'colsample_bytree': 0.663996290718468, 'gamma': 2.4193598046402265, 'min_child_weight': 7}. Best is trial 4 with value: 0.22416920623282757.\n",
      "c:\\Users\\Chandra Aulia H\\AppData\\Local\\Programs\\Python\\Python311\\Lib\\site-packages\\sklearn\\metrics\\_regression.py:492: FutureWarning: 'squared' is deprecated in version 1.4 and will be removed in 1.6. To calculate the root mean squared error, use the function'root_mean_squared_error'.\n",
      "  warnings.warn(\n",
      "[I 2025-05-08 00:09:15,704] Trial 14 finished with value: 0.2292138139667902 and parameters: {'n_estimators': 136, 'max_depth': 7, 'learning_rate': 0.03761015432248306, 'subsample': 0.7539607682010621, 'colsample_bytree': 0.5134007633203019, 'gamma': 0.7727853612519624, 'min_child_weight': 4}. Best is trial 4 with value: 0.22416920623282757.\n",
      "c:\\Users\\Chandra Aulia H\\AppData\\Local\\Programs\\Python\\Python311\\Lib\\site-packages\\sklearn\\metrics\\_regression.py:492: FutureWarning: 'squared' is deprecated in version 1.4 and will be removed in 1.6. To calculate the root mean squared error, use the function'root_mean_squared_error'.\n",
      "  warnings.warn(\n",
      "[I 2025-05-08 00:09:16,346] Trial 15 finished with value: 0.24763023378853652 and parameters: {'n_estimators': 486, 'max_depth': 9, 'learning_rate': 0.1143454937118199, 'subsample': 0.5814163076601059, 'colsample_bytree': 0.7581217761547377, 'gamma': 0.05997339597581952, 'min_child_weight': 10}. Best is trial 4 with value: 0.22416920623282757.\n",
      "c:\\Users\\Chandra Aulia H\\AppData\\Local\\Programs\\Python\\Python311\\Lib\\site-packages\\sklearn\\metrics\\_regression.py:492: FutureWarning: 'squared' is deprecated in version 1.4 and will be removed in 1.6. To calculate the root mean squared error, use the function'root_mean_squared_error'.\n",
      "  warnings.warn(\n",
      "[I 2025-05-08 00:09:17,108] Trial 16 finished with value: 0.23470344002508073 and parameters: {'n_estimators': 978, 'max_depth': 5, 'learning_rate': 0.014384513447217938, 'subsample': 0.6347385388190109, 'colsample_bytree': 0.9079378617614651, 'gamma': 3.1071463142768465, 'min_child_weight': 8}. Best is trial 4 with value: 0.22416920623282757.\n",
      "c:\\Users\\Chandra Aulia H\\AppData\\Local\\Programs\\Python\\Python311\\Lib\\site-packages\\sklearn\\metrics\\_regression.py:492: FutureWarning: 'squared' is deprecated in version 1.4 and will be removed in 1.6. To calculate the root mean squared error, use the function'root_mean_squared_error'.\n",
      "  warnings.warn(\n",
      "[I 2025-05-08 00:09:17,676] Trial 17 finished with value: 0.23255415927444445 and parameters: {'n_estimators': 715, 'max_depth': 9, 'learning_rate': 0.2682181259072235, 'subsample': 0.7333079441243293, 'colsample_bytree': 0.6406459325082031, 'gamma': 1.5890677236622457, 'min_child_weight': 4}. Best is trial 4 with value: 0.22416920623282757.\n",
      "c:\\Users\\Chandra Aulia H\\AppData\\Local\\Programs\\Python\\Python311\\Lib\\site-packages\\sklearn\\metrics\\_regression.py:492: FutureWarning: 'squared' is deprecated in version 1.4 and will be removed in 1.6. To calculate the root mean squared error, use the function'root_mean_squared_error'.\n",
      "  warnings.warn(\n",
      "[I 2025-05-08 00:09:18,335] Trial 18 finished with value: 0.23585728645434564 and parameters: {'n_estimators': 848, 'max_depth': 7, 'learning_rate': 0.1650088604186943, 'subsample': 0.8183742250631596, 'colsample_bytree': 0.7564636276856883, 'gamma': 2.4942611620004858, 'min_child_weight': 7}. Best is trial 4 with value: 0.22416920623282757.\n",
      "c:\\Users\\Chandra Aulia H\\AppData\\Local\\Programs\\Python\\Python311\\Lib\\site-packages\\sklearn\\metrics\\_regression.py:492: FutureWarning: 'squared' is deprecated in version 1.4 and will be removed in 1.6. To calculate the root mean squared error, use the function'root_mean_squared_error'.\n",
      "  warnings.warn(\n",
      "[I 2025-05-08 00:09:18,793] Trial 19 finished with value: 0.23610554483010235 and parameters: {'n_estimators': 545, 'max_depth': 3, 'learning_rate': 0.08964545060997206, 'subsample': 0.5441866710429056, 'colsample_bytree': 0.5873275825652426, 'gamma': 1.1229158537586348, 'min_child_weight': 9}. Best is trial 4 with value: 0.22416920623282757.\n",
      "c:\\Users\\Chandra Aulia H\\AppData\\Local\\Programs\\Python\\Python311\\Lib\\site-packages\\sklearn\\metrics\\_regression.py:492: FutureWarning: 'squared' is deprecated in version 1.4 and will be removed in 1.6. To calculate the root mean squared error, use the function'root_mean_squared_error'.\n",
      "  warnings.warn(\n",
      "[I 2025-05-08 00:09:19,112] Trial 20 finished with value: 0.22877364873265882 and parameters: {'n_estimators': 233, 'max_depth': 8, 'learning_rate': 0.04520348950191544, 'subsample': 0.9551998372610528, 'colsample_bytree': 0.9124046050374786, 'gamma': 0.5653715152877902, 'min_child_weight': 5}. Best is trial 4 with value: 0.22416920623282757.\n",
      "c:\\Users\\Chandra Aulia H\\AppData\\Local\\Programs\\Python\\Python311\\Lib\\site-packages\\sklearn\\metrics\\_regression.py:492: FutureWarning: 'squared' is deprecated in version 1.4 and will be removed in 1.6. To calculate the root mean squared error, use the function'root_mean_squared_error'.\n",
      "  warnings.warn(\n",
      "[I 2025-05-08 00:09:19,343] Trial 21 finished with value: 0.22740898506159302 and parameters: {'n_estimators': 112, 'max_depth': 8, 'learning_rate': 0.04913937955066772, 'subsample': 0.8344549511537783, 'colsample_bytree': 0.7979712744284538, 'gamma': 0.532264156764783, 'min_child_weight': 7}. Best is trial 4 with value: 0.22416920623282757.\n",
      "c:\\Users\\Chandra Aulia H\\AppData\\Local\\Programs\\Python\\Python311\\Lib\\site-packages\\sklearn\\metrics\\_regression.py:492: FutureWarning: 'squared' is deprecated in version 1.4 and will be removed in 1.6. To calculate the root mean squared error, use the function'root_mean_squared_error'.\n",
      "  warnings.warn(\n",
      "[I 2025-05-08 00:09:19,586] Trial 22 finished with value: 0.22724235590976155 and parameters: {'n_estimators': 193, 'max_depth': 9, 'learning_rate': 0.06451812917735669, 'subsample': 0.7008620605984237, 'colsample_bytree': 0.8619895190606344, 'gamma': 1.062654531905862, 'min_child_weight': 3}. Best is trial 4 with value: 0.22416920623282757.\n",
      "c:\\Users\\Chandra Aulia H\\AppData\\Local\\Programs\\Python\\Python311\\Lib\\site-packages\\sklearn\\metrics\\_regression.py:492: FutureWarning: 'squared' is deprecated in version 1.4 and will be removed in 1.6. To calculate the root mean squared error, use the function'root_mean_squared_error'.\n",
      "  warnings.warn(\n",
      "[I 2025-05-08 00:09:20,033] Trial 23 finished with value: 0.22863419660001527 and parameters: {'n_estimators': 344, 'max_depth': 6, 'learning_rate': 0.09447127028432617, 'subsample': 0.7875759829446869, 'colsample_bytree': 0.9435514730538377, 'gamma': 0.49742529660483886, 'min_child_weight': 1}. Best is trial 4 with value: 0.22416920623282757.\n",
      "c:\\Users\\Chandra Aulia H\\AppData\\Local\\Programs\\Python\\Python311\\Lib\\site-packages\\sklearn\\metrics\\_regression.py:492: FutureWarning: 'squared' is deprecated in version 1.4 and will be removed in 1.6. To calculate the root mean squared error, use the function'root_mean_squared_error'.\n",
      "  warnings.warn(\n",
      "[I 2025-05-08 00:09:20,458] Trial 24 finished with value: 0.23229118346201524 and parameters: {'n_estimators': 393, 'max_depth': 10, 'learning_rate': 0.03442213221006503, 'subsample': 0.8948396680831174, 'colsample_bytree': 0.9896731903171817, 'gamma': 2.0710281555883636, 'min_child_weight': 6}. Best is trial 4 with value: 0.22416920623282757.\n",
      "c:\\Users\\Chandra Aulia H\\AppData\\Local\\Programs\\Python\\Python311\\Lib\\site-packages\\sklearn\\metrics\\_regression.py:492: FutureWarning: 'squared' is deprecated in version 1.4 and will be removed in 1.6. To calculate the root mean squared error, use the function'root_mean_squared_error'.\n",
      "  warnings.warn(\n",
      "[I 2025-05-08 00:09:20,993] Trial 25 finished with value: 0.2350159047663997 and parameters: {'n_estimators': 178, 'max_depth': 7, 'learning_rate': 0.059067604708078425, 'subsample': 0.6413897665184604, 'colsample_bytree': 0.7847251675670243, 'gamma': 0.02989917186976998, 'min_child_weight': 9}. Best is trial 4 with value: 0.22416920623282757.\n",
      "c:\\Users\\Chandra Aulia H\\AppData\\Local\\Programs\\Python\\Python311\\Lib\\site-packages\\sklearn\\metrics\\_regression.py:492: FutureWarning: 'squared' is deprecated in version 1.4 and will be removed in 1.6. To calculate the root mean squared error, use the function'root_mean_squared_error'.\n",
      "  warnings.warn(\n",
      "[I 2025-05-08 00:09:21,444] Trial 26 finished with value: 0.23104085727289783 and parameters: {'n_estimators': 542, 'max_depth': 8, 'learning_rate': 0.1337868570390383, 'subsample': 0.9892945250529286, 'colsample_bytree': 0.7063541321386337, 'gamma': 1.5233954501926346, 'min_child_weight': 4}. Best is trial 4 with value: 0.22416920623282757.\n",
      "c:\\Users\\Chandra Aulia H\\AppData\\Local\\Programs\\Python\\Python311\\Lib\\site-packages\\sklearn\\metrics\\_regression.py:492: FutureWarning: 'squared' is deprecated in version 1.4 and will be removed in 1.6. To calculate the root mean squared error, use the function'root_mean_squared_error'.\n",
      "  warnings.warn(\n",
      "[I 2025-05-08 00:09:21,855] Trial 27 finished with value: 0.22526260925292843 and parameters: {'n_estimators': 269, 'max_depth': 9, 'learning_rate': 0.029194716789781236, 'subsample': 0.7818417211759849, 'colsample_bytree': 0.8652789794197631, 'gamma': 0.4914057971384225, 'min_child_weight': 7}. Best is trial 4 with value: 0.22416920623282757.\n",
      "c:\\Users\\Chandra Aulia H\\AppData\\Local\\Programs\\Python\\Python311\\Lib\\site-packages\\sklearn\\metrics\\_regression.py:492: FutureWarning: 'squared' is deprecated in version 1.4 and will be removed in 1.6. To calculate the root mean squared error, use the function'root_mean_squared_error'.\n",
      "  warnings.warn(\n",
      "[I 2025-05-08 00:09:22,296] Trial 28 finished with value: 0.22933428324924768 and parameters: {'n_estimators': 286, 'max_depth': 9, 'learning_rate': 0.012632289522089113, 'subsample': 0.7731511708516223, 'colsample_bytree': 0.8716855511178614, 'gamma': 1.2227242310625501, 'min_child_weight': 7}. Best is trial 4 with value: 0.22416920623282757.\n",
      "c:\\Users\\Chandra Aulia H\\AppData\\Local\\Programs\\Python\\Python311\\Lib\\site-packages\\sklearn\\metrics\\_regression.py:492: FutureWarning: 'squared' is deprecated in version 1.4 and will be removed in 1.6. To calculate the root mean squared error, use the function'root_mean_squared_error'.\n",
      "  warnings.warn(\n",
      "[I 2025-05-08 00:09:22,809] Trial 29 finished with value: 0.2328805186416265 and parameters: {'n_estimators': 625, 'max_depth': 5, 'learning_rate': 0.23802160951710716, 'subsample': 0.5560356294233054, 'colsample_bytree': 0.9273955712467269, 'gamma': 0.4049335401685984, 'min_child_weight': 8}. Best is trial 4 with value: 0.22416920623282757.\n",
      "c:\\Users\\Chandra Aulia H\\AppData\\Local\\Programs\\Python\\Python311\\Lib\\site-packages\\sklearn\\metrics\\_regression.py:492: FutureWarning: 'squared' is deprecated in version 1.4 and will be removed in 1.6. To calculate the root mean squared error, use the function'root_mean_squared_error'.\n",
      "  warnings.warn(\n",
      "[I 2025-05-08 00:09:23,346] Trial 30 finished with value: 0.23447143333216577 and parameters: {'n_estimators': 739, 'max_depth': 10, 'learning_rate': 0.037114454112375475, 'subsample': 0.709922495481436, 'colsample_bytree': 0.6682625272563524, 'gamma': 3.3072100835763374, 'min_child_weight': 9}. Best is trial 4 with value: 0.22416920623282757.\n",
      "c:\\Users\\Chandra Aulia H\\AppData\\Local\\Programs\\Python\\Python311\\Lib\\site-packages\\sklearn\\metrics\\_regression.py:492: FutureWarning: 'squared' is deprecated in version 1.4 and will be removed in 1.6. To calculate the root mean squared error, use the function'root_mean_squared_error'.\n",
      "  warnings.warn(\n",
      "[I 2025-05-08 00:09:23,599] Trial 31 finished with value: 0.23027555549157291 and parameters: {'n_estimators': 205, 'max_depth': 8, 'learning_rate': 0.06233402958772986, 'subsample': 0.8025260089154349, 'colsample_bytree': 0.8563783761926064, 'gamma': 0.8052419152271849, 'min_child_weight': 7}. Best is trial 4 with value: 0.22416920623282757.\n",
      "c:\\Users\\Chandra Aulia H\\AppData\\Local\\Programs\\Python\\Python311\\Lib\\site-packages\\sklearn\\metrics\\_regression.py:492: FutureWarning: 'squared' is deprecated in version 1.4 and will be removed in 1.6. To calculate the root mean squared error, use the function'root_mean_squared_error'.\n",
      "  warnings.warn(\n",
      "[I 2025-05-08 00:09:23,852] Trial 32 finished with value: 0.22766804722737186 and parameters: {'n_estimators': 127, 'max_depth': 9, 'learning_rate': 0.02719644150930637, 'subsample': 0.8414399332986942, 'colsample_bytree': 0.826182151437415, 'gamma': 0.7719278536419694, 'min_child_weight': 1}. Best is trial 4 with value: 0.22416920623282757.\n",
      "c:\\Users\\Chandra Aulia H\\AppData\\Local\\Programs\\Python\\Python311\\Lib\\site-packages\\sklearn\\metrics\\_regression.py:492: FutureWarning: 'squared' is deprecated in version 1.4 and will be removed in 1.6. To calculate the root mean squared error, use the function'root_mean_squared_error'.\n",
      "  warnings.warn(\n",
      "[I 2025-05-08 00:09:24,229] Trial 33 finished with value: 0.23501821385270685 and parameters: {'n_estimators': 368, 'max_depth': 7, 'learning_rate': 0.10273501650729182, 'subsample': 0.5928804435595004, 'colsample_bytree': 0.7739025640011015, 'gamma': 0.33709496597156346, 'min_child_weight': 5}. Best is trial 4 with value: 0.22416920623282757.\n",
      "c:\\Users\\Chandra Aulia H\\AppData\\Local\\Programs\\Python\\Python311\\Lib\\site-packages\\sklearn\\metrics\\_regression.py:492: FutureWarning: 'squared' is deprecated in version 1.4 and will be removed in 1.6. To calculate the root mean squared error, use the function'root_mean_squared_error'.\n",
      "  warnings.warn(\n",
      "[I 2025-05-08 00:09:24,508] Trial 34 finished with value: 0.2282635616709585 and parameters: {'n_estimators': 267, 'max_depth': 9, 'learning_rate': 0.07142677222068249, 'subsample': 0.865763710861296, 'colsample_bytree': 0.7247001549252137, 'gamma': 0.8353696993606659, 'min_child_weight': 6}. Best is trial 4 with value: 0.22416920623282757.\n",
      "c:\\Users\\Chandra Aulia H\\AppData\\Local\\Programs\\Python\\Python311\\Lib\\site-packages\\sklearn\\metrics\\_regression.py:492: FutureWarning: 'squared' is deprecated in version 1.4 and will be removed in 1.6. To calculate the root mean squared error, use the function'root_mean_squared_error'.\n",
      "  warnings.warn(\n",
      "[I 2025-05-08 00:09:24,864] Trial 35 finished with value: 0.22632399741426593 and parameters: {'n_estimators': 172, 'max_depth': 8, 'learning_rate': 0.048484002763763676, 'subsample': 0.6184430309758499, 'colsample_bytree': 0.8748201035308958, 'gamma': 0.38629977094663204, 'min_child_weight': 8}. Best is trial 4 with value: 0.22416920623282757.\n",
      "c:\\Users\\Chandra Aulia H\\AppData\\Local\\Programs\\Python\\Python311\\Lib\\site-packages\\sklearn\\metrics\\_regression.py:492: FutureWarning: 'squared' is deprecated in version 1.4 and will be removed in 1.6. To calculate the root mean squared error, use the function'root_mean_squared_error'.\n",
      "  warnings.warn(\n",
      "[I 2025-05-08 00:09:25,263] Trial 36 finished with value: 0.22894411928274905 and parameters: {'n_estimators': 310, 'max_depth': 9, 'learning_rate': 0.05760153336400383, 'subsample': 0.6320972425279088, 'colsample_bytree': 0.8937124725800298, 'gamma': 0.3132573977706878, 'min_child_weight': 8}. Best is trial 4 with value: 0.22416920623282757.\n",
      "c:\\Users\\Chandra Aulia H\\AppData\\Local\\Programs\\Python\\Python311\\Lib\\site-packages\\sklearn\\metrics\\_regression.py:492: FutureWarning: 'squared' is deprecated in version 1.4 and will be removed in 1.6. To calculate the root mean squared error, use the function'root_mean_squared_error'.\n",
      "  warnings.warn(\n",
      "[I 2025-05-08 00:09:25,965] Trial 37 finished with value: 0.2319937562381009 and parameters: {'n_estimators': 238, 'max_depth': 6, 'learning_rate': 0.031640917158343315, 'subsample': 0.6665102177923015, 'colsample_bytree': 0.9449317938835764, 'gamma': 0.04718828193270691, 'min_child_weight': 9}. Best is trial 4 with value: 0.22416920623282757.\n",
      "c:\\Users\\Chandra Aulia H\\AppData\\Local\\Programs\\Python\\Python311\\Lib\\site-packages\\sklearn\\metrics\\_regression.py:492: FutureWarning: 'squared' is deprecated in version 1.4 and will be removed in 1.6. To calculate the root mean squared error, use the function'root_mean_squared_error'.\n",
      "  warnings.warn(\n",
      "[I 2025-05-08 00:09:26,585] Trial 38 finished with value: 0.22487534387107228 and parameters: {'n_estimators': 792, 'max_depth': 10, 'learning_rate': 0.04601558425405178, 'subsample': 0.5560618397150736, 'colsample_bytree': 0.8888026267932618, 'gamma': 0.6087423549165373, 'min_child_weight': 8}. Best is trial 4 with value: 0.22416920623282757.\n",
      "c:\\Users\\Chandra Aulia H\\AppData\\Local\\Programs\\Python\\Python311\\Lib\\site-packages\\sklearn\\metrics\\_regression.py:492: FutureWarning: 'squared' is deprecated in version 1.4 and will be removed in 1.6. To calculate the root mean squared error, use the function'root_mean_squared_error'.\n",
      "  warnings.warn(\n",
      "[I 2025-05-08 00:09:27,182] Trial 39 finished with value: 0.22552910091303985 and parameters: {'n_estimators': 798, 'max_depth': 10, 'learning_rate': 0.08199147231529494, 'subsample': 0.5553152019264905, 'colsample_bytree': 0.9962701080312071, 'gamma': 1.3597567427786519, 'min_child_weight': 7}. Best is trial 4 with value: 0.22416920623282757.\n",
      "c:\\Users\\Chandra Aulia H\\AppData\\Local\\Programs\\Python\\Python311\\Lib\\site-packages\\sklearn\\metrics\\_regression.py:492: FutureWarning: 'squared' is deprecated in version 1.4 and will be removed in 1.6. To calculate the root mean squared error, use the function'root_mean_squared_error'.\n",
      "  warnings.warn(\n",
      "[I 2025-05-08 00:09:27,676] Trial 40 finished with value: 0.22648111015156236 and parameters: {'n_estimators': 686, 'max_depth': 10, 'learning_rate': 0.15296935091962088, 'subsample': 0.5224288520191281, 'colsample_bytree': 0.8342198338093371, 'gamma': 1.018033956413952, 'min_child_weight': 6}. Best is trial 4 with value: 0.22416920623282757.\n",
      "c:\\Users\\Chandra Aulia H\\AppData\\Local\\Programs\\Python\\Python311\\Lib\\site-packages\\sklearn\\metrics\\_regression.py:492: FutureWarning: 'squared' is deprecated in version 1.4 and will be removed in 1.6. To calculate the root mean squared error, use the function'root_mean_squared_error'.\n",
      "  warnings.warn(\n",
      "[I 2025-05-08 00:09:28,323] Trial 41 finished with value: 0.2219424393125971 and parameters: {'n_estimators': 806, 'max_depth': 10, 'learning_rate': 0.07854071910697069, 'subsample': 0.5695521317599171, 'colsample_bytree': 0.9739385233828567, 'gamma': 0.655863946569007, 'min_child_weight': 7}. Best is trial 41 with value: 0.2219424393125971.\n",
      "c:\\Users\\Chandra Aulia H\\AppData\\Local\\Programs\\Python\\Python311\\Lib\\site-packages\\sklearn\\metrics\\_regression.py:492: FutureWarning: 'squared' is deprecated in version 1.4 and will be removed in 1.6. To calculate the root mean squared error, use the function'root_mean_squared_error'.\n",
      "  warnings.warn(\n",
      "[I 2025-05-08 00:09:29,018] Trial 42 finished with value: 0.22630083033475487 and parameters: {'n_estimators': 861, 'max_depth': 10, 'learning_rate': 0.025524734075320726, 'subsample': 0.5776554868296078, 'colsample_bytree': 0.9626279376177517, 'gamma': 0.7137110034730003, 'min_child_weight': 8}. Best is trial 41 with value: 0.2219424393125971.\n",
      "c:\\Users\\Chandra Aulia H\\AppData\\Local\\Programs\\Python\\Python311\\Lib\\site-packages\\sklearn\\metrics\\_regression.py:492: FutureWarning: 'squared' is deprecated in version 1.4 and will be removed in 1.6. To calculate the root mean squared error, use the function'root_mean_squared_error'.\n",
      "  warnings.warn(\n",
      "[I 2025-05-08 00:09:29,682] Trial 43 finished with value: 0.22827796483525936 and parameters: {'n_estimators': 797, 'max_depth': 10, 'learning_rate': 0.0762725869195791, 'subsample': 0.5984373720689818, 'colsample_bytree': 0.9660735962107795, 'gamma': 0.28975127149271557, 'min_child_weight': 7}. Best is trial 41 with value: 0.2219424393125971.\n",
      "c:\\Users\\Chandra Aulia H\\AppData\\Local\\Programs\\Python\\Python311\\Lib\\site-packages\\sklearn\\metrics\\_regression.py:492: FutureWarning: 'squared' is deprecated in version 1.4 and will be removed in 1.6. To calculate the root mean squared error, use the function'root_mean_squared_error'.\n",
      "  warnings.warn(\n",
      "[I 2025-05-08 00:09:30,461] Trial 44 finished with value: 0.23240709707846965 and parameters: {'n_estimators': 938, 'max_depth': 9, 'learning_rate': 0.011852001382892711, 'subsample': 0.55199221492486, 'colsample_bytree': 0.9268251096934536, 'gamma': 2.811980427623107, 'min_child_weight': 8}. Best is trial 41 with value: 0.2219424393125971.\n",
      "c:\\Users\\Chandra Aulia H\\AppData\\Local\\Programs\\Python\\Python311\\Lib\\site-packages\\sklearn\\metrics\\_regression.py:492: FutureWarning: 'squared' is deprecated in version 1.4 and will be removed in 1.6. To calculate the root mean squared error, use the function'root_mean_squared_error'.\n",
      "  warnings.warn(\n",
      "[I 2025-05-08 00:09:31,193] Trial 45 finished with value: 0.2255002103661097 and parameters: {'n_estimators': 757, 'max_depth': 10, 'learning_rate': 0.04695993140886703, 'subsample': 0.5137832171472134, 'colsample_bytree': 0.8973974082890372, 'gamma': 0.5949319280666225, 'min_child_weight': 9}. Best is trial 41 with value: 0.2219424393125971.\n",
      "c:\\Users\\Chandra Aulia H\\AppData\\Local\\Programs\\Python\\Python311\\Lib\\site-packages\\sklearn\\metrics\\_regression.py:492: FutureWarning: 'squared' is deprecated in version 1.4 and will be removed in 1.6. To calculate the root mean squared error, use the function'root_mean_squared_error'.\n",
      "  warnings.warn(\n",
      "[I 2025-05-08 00:09:31,815] Trial 46 finished with value: 0.23032662714384292 and parameters: {'n_estimators': 609, 'max_depth': 9, 'learning_rate': 0.02557382485148726, 'subsample': 0.6799556140013059, 'colsample_bytree': 0.9422881364944126, 'gamma': 1.7527618552768205, 'min_child_weight': 6}. Best is trial 41 with value: 0.2219424393125971.\n",
      "c:\\Users\\Chandra Aulia H\\AppData\\Local\\Programs\\Python\\Python311\\Lib\\site-packages\\sklearn\\metrics\\_regression.py:492: FutureWarning: 'squared' is deprecated in version 1.4 and will be removed in 1.6. To calculate the root mean squared error, use the function'root_mean_squared_error'.\n",
      "  warnings.warn(\n",
      "[I 2025-05-08 00:09:32,639] Trial 47 finished with value: 0.23814855641718627 and parameters: {'n_estimators': 692, 'max_depth': 10, 'learning_rate': 0.10595301001057955, 'subsample': 0.5320058708717694, 'colsample_bytree': 0.6713077042227561, 'gamma': 4.162979659224252, 'min_child_weight': 10}. Best is trial 41 with value: 0.2219424393125971.\n",
      "c:\\Users\\Chandra Aulia H\\AppData\\Local\\Programs\\Python\\Python311\\Lib\\site-packages\\sklearn\\metrics\\_regression.py:492: FutureWarning: 'squared' is deprecated in version 1.4 and will be removed in 1.6. To calculate the root mean squared error, use the function'root_mean_squared_error'.\n",
      "  warnings.warn(\n",
      "[I 2025-05-08 00:09:33,453] Trial 48 finished with value: 0.2297291250683826 and parameters: {'n_estimators': 883, 'max_depth': 5, 'learning_rate': 0.042189855297017624, 'subsample': 0.5711748443048345, 'colsample_bytree': 0.6141051570766288, 'gamma': 2.173713095893854, 'min_child_weight': 7}. Best is trial 41 with value: 0.2219424393125971.\n",
      "c:\\Users\\Chandra Aulia H\\AppData\\Local\\Programs\\Python\\Python311\\Lib\\site-packages\\sklearn\\metrics\\_regression.py:492: FutureWarning: 'squared' is deprecated in version 1.4 and will be removed in 1.6. To calculate the root mean squared error, use the function'root_mean_squared_error'.\n",
      "  warnings.warn(\n",
      "[I 2025-05-08 00:09:33,999] Trial 49 finished with value: 0.23108778109254577 and parameters: {'n_estimators': 492, 'max_depth': 9, 'learning_rate': 0.07108204271633849, 'subsample': 0.648960686904851, 'colsample_bytree': 0.9754232307528773, 'gamma': 0.23988372022668947, 'min_child_weight': 8}. Best is trial 41 with value: 0.2219424393125971.\n"
     ]
    },
    {
     "name": "stdout",
     "output_type": "stream",
     "text": [
      "Best Parameters: {'n_estimators': 806, 'max_depth': 10, 'learning_rate': 0.07854071910697069, 'subsample': 0.5695521317599171, 'colsample_bytree': 0.9739385233828567, 'gamma': 0.655863946569007, 'min_child_weight': 7}\n",
      "Best RMSE: 0.2219424393125971\n"
     ]
    }
   ],
   "source": [
    "import optuna\n",
    "\n",
    "def objective(trial):\n",
    "    # Define the hyperparameter search space\n",
    "    param = {\n",
    "        'n_estimators': trial.suggest_int('n_estimators', 100, 1000),\n",
    "        'max_depth': trial.suggest_int('max_depth', 3, 10),\n",
    "        'learning_rate': trial.suggest_float('learning_rate', 0.01, 0.3),\n",
    "        'subsample': trial.suggest_float('subsample', 0.5, 1.0),\n",
    "        'colsample_bytree': trial.suggest_float('colsample_bytree', 0.5, 1.0),\n",
    "        'gamma': trial.suggest_float('gamma', 0, 5),\n",
    "        'min_child_weight': trial.suggest_int('min_child_weight', 1, 10)\n",
    "    }\n",
    "\n",
    "    # Initialize the model with the suggested hyperparameters\n",
    "    model = XGBRegressor(objective='reg:squarederror', random_state=42, **param)\n",
    "\n",
    "    # Train the model\n",
    "    model.fit(X_train, y_train)\n",
    "\n",
    "    # Predict on the test set\n",
    "    y_pred = model.predict(X_test)\n",
    "\n",
    "    # Calculate the RMSE\n",
    "    rmse = mean_squared_error(y_test, y_pred, squared=False)\n",
    "    return rmse\n",
    "\n",
    "# Create a study object and optimize\n",
    "study = optuna.create_study(direction='minimize')\n",
    "study.optimize(objective, n_trials=50)\n",
    "\n",
    "# Print the best parameters and the best score\n",
    "print(\"Best Parameters:\", study.best_params)\n",
    "print(\"Best RMSE:\", study.best_value)"
   ]
  },
  {
   "cell_type": "code",
   "execution_count": 139,
   "id": "460ffb7e",
   "metadata": {},
   "outputs": [
    {
     "name": "stdout",
     "output_type": "stream",
     "text": [
      "Mean Squared Error (MSE) XGBoost: 0.04925844636802584\n",
      "Root Mean Squared Error (RMSE) XGBoost: 0.2219424393125971\n",
      "R-squared (R2) XGBoost: 0.7660732926496046\n"
     ]
    },
    {
     "data": {
      "image/png": "[encoded data removed]",
      "text/plain": [
       "<Figure size 800x600 with 1 Axes>"
      ]
     },
     "metadata": {},
     "output_type": "display_data"
    }
   ],
   "source": [
    "# Train the model with the best parameters\n",
    "best_params = study.best_params\n",
    "tuned_model = XGBRegressor(objective='reg:squarederror', random_state=42, **best_params)\n",
    "tuned_model.fit(X_train, y_train)\n",
    "\n",
    "# Evaluate the tuned model\n",
    "training(tuned_model, X_train, y_train)"
   ]
  },
  {
   "cell_type": "code",
   "execution_count": 140,
   "id": "75ca35b2",
   "metadata": {},
   "outputs": [
    {
     "name": "stdout",
     "output_type": "stream",
     "text": [
      "Fitting 5 folds for each of 108 candidates, totalling 540 fits\n",
      "Best Parameters: {'colsample_bytree': 0.8, 'learning_rate': 0.01, 'max_depth': 3, 'n_estimators': 300, 'subsample': 0.8}\n",
      "Best Score: 0.06530046822779048\n"
     ]
    }
   ],
   "source": [
    "from sklearn.model_selection import GridSearchCV\n",
    "\n",
    "# Define the parameter grid\n",
    "param_grid = {\n",
    "    'n_estimators': [100, 200, 300],\n",
    "    'max_depth': [3, 5, 7],\n",
    "    'learning_rate': [0.01, 0.1, 0.2],\n",
    "    'subsample': [0.8, 1.0],\n",
    "    'colsample_bytree': [0.8, 1.0]\n",
    "}\n",
    "\n",
    "# Initialize the GridSearchCV object\n",
    "grid_search = GridSearchCV(\n",
    "    estimator=XGBRegressor(objective='reg:squarederror', random_state=42),\n",
    "    param_grid=param_grid,\n",
    "    scoring='neg_mean_squared_error',\n",
    "    cv=5,\n",
    "    verbose=1,\n",
    "    n_jobs=-1\n",
    ")\n",
    "\n",
    "# Perform the grid search\n",
    "grid_search.fit(X, y)\n",
    "\n",
    "# Print the best parameters and the best score\n",
    "print(\"Best Parameters:\", grid_search.best_params_)\n",
    "print(\"Best Score:\", -grid_search.best_score_)"
   ]
  },
  {
   "cell_type": "code",
   "execution_count": 141,
   "id": "97ccdec5",
   "metadata": {},
   "outputs": [
    {
     "name": "stdout",
     "output_type": "stream",
     "text": [
      "Model training completed with tuned parameters.\n",
      "Mean Squared Error (MSE) XGBoost: 0.03883846948462631\n",
      "Root Mean Squared Error (RMSE) XGBoost: 0.197074781452692\n",
      "R-squared (R2) XGBoost: 0.8155574128914298\n"
     ]
    },
    {
     "data": {
      "image/png": "[encoded data removed]",
      "text/plain": [
       "<Figure size 800x600 with 1 Axes>"
      ]
     },
     "metadata": {},
     "output_type": "display_data"
    }
   ],
   "source": [
    "# Extract the best parameters from the grid search\n",
    "best_params = grid_search.best_params_\n",
    "\n",
    "# Initialize the XGBoost model with the best parameters\n",
    "tuned_model = XGBRegressor(\n",
    "    objective='reg:squarederror',\n",
    "    random_state=42,\n",
    "    **best_params\n",
    ")\n",
    "\n",
    "# Train the model on the training data\n",
    "print(\"Model training completed with tuned parameters.\")\n",
    "training(tuned_model, X, y)"
   ]
  },
  {
   "cell_type": "markdown",
   "id": "1a574af3",
   "metadata": {},
   "source": [
    "## Bagging"
   ]
  },
  {
   "cell_type": "code",
   "execution_count": 142,
   "id": "3f44d74b",
   "metadata": {},
   "outputs": [
    {
     "name": "stdout",
     "output_type": "stream",
     "text": [
      "Mean Squared Error (MSE): 0.057647681372549206\n",
      "Root Mean Squared Error (RMSE): 0.24009931564365028\n",
      "R-squared (R2): 0.7262330973837083\n"
     ]
    },
    {
     "data": {
      "image/png": "[encoded data removed]",
      "text/plain": [
       "<Figure size 800x600 with 1 Axes>"
      ]
     },
     "metadata": {},
     "output_type": "display_data"
    }
   ],
   "source": [
    "from sklearn.ensemble import BaggingRegressor\n",
    "from sklearn.tree import DecisionTreeRegressor\n",
    "\n",
    "# Initialize the base model\n",
    "base_model = DecisionTreeRegressor(random_state=42)\n",
    "\n",
    "# Create the Bagging Regressor\n",
    "bagging_model = BaggingRegressor(\n",
    "    estimator=base_model,\n",
    "    n_estimators=50,  # Number of base models\n",
    "    random_state=42,\n",
    "    n_jobs=-1\n",
    ")\n",
    "\n",
    "def training_bagging (bagging_model, X_train, y_train):\n",
    "    # Train the Bagging Regressor\n",
    "    bagging_model.fit(X_train, y_train)\n",
    "\n",
    "    # Predict on the test set\n",
    "    y_pred_bagging = bagging_model.predict(X_test)\n",
    "\n",
    "    # Evaluate the model\n",
    "    mse_bagging = mean_squared_error(y_test, y_pred_bagging)\n",
    "    rmse_bagging = np.sqrt(mse_bagging)\n",
    "    r2_bagging = r2_score(y_test, y_pred_bagging)\n",
    "\n",
    "    print(f\"Mean Squared Error (MSE): {mse_bagging}\")\n",
    "    print(f\"Root Mean Squared Error (RMSE): {rmse_bagging}\")\n",
    "    print(f\"R-squared (R2): {r2_bagging}\")\n",
    "\n",
    "    # Visualisasi hasil prediksi Bagging Regressor\n",
    "    plt.figure(figsize=(8, 6))\n",
    "    plt.scatter(y_test, y_pred_bagging, alpha=0.7, color='tomato', label='Predicted')\n",
    "    plt.plot([y_test.min(), y_test.max()], [y_test.min(), y_test.max()], color='red', linestyle='--', linewidth=2, label='Ideal')\n",
    "    plt.xlabel('Actual Values')\n",
    "    plt.ylabel('Predicted Values')\n",
    "    plt.title('Bagging Regressor: Actual vs Predicted')\n",
    "    plt.legend()\n",
    "    plt.grid(True)\n",
    "    plt.show()\n",
    "\n",
    "training_bagging(bagging_model, X_train, y_train)"
   ]
  },
  {
   "cell_type": "markdown",
   "id": "162afa18",
   "metadata": {},
   "source": [
    "### Hyperparameter Tuning"
   ]
  },
  {
   "cell_type": "code",
   "execution_count": 143,
   "id": "9b4df8cf",
   "metadata": {},
   "outputs": [
    {
     "name": "stdout",
     "output_type": "stream",
     "text": [
      "Fitting 5 folds for each of 108 candidates, totalling 540 fits\n",
      "Best Parameters for Bagging Regressor: {'bootstrap': False, 'bootstrap_features': False, 'max_features': 0.7, 'max_samples': 0.5, 'n_estimators': 50}\n",
      "Best Score for Bagging Regressor: 0.06471016043692948\n"
     ]
    }
   ],
   "source": [
    "from sklearn.model_selection import GridSearchCV\n",
    "\n",
    "# Define the parameter grid\n",
    "param_grid_bagging = {\n",
    "    'n_estimators': [10, 50, 100],\n",
    "    'max_samples': [0.5, 0.7, 1.0],\n",
    "    'max_features': [0.5, 0.7, 1.0],\n",
    "    'bootstrap': [True, False],\n",
    "    'bootstrap_features': [True, False]\n",
    "}\n",
    "\n",
    "# Initialize the GridSearchCV object\n",
    "grid_search_bagging = GridSearchCV(\n",
    "    estimator=BaggingRegressor(estimator=base_model, random_state=42, n_jobs=-1),\n",
    "    param_grid=param_grid_bagging,\n",
    "    scoring='neg_mean_squared_error',\n",
    "    cv=5,\n",
    "    verbose=1,\n",
    "    n_jobs=-1\n",
    ")\n",
    "\n",
    "# Perform the grid search\n",
    "grid_search_bagging.fit(X_train, y_train)\n",
    "\n",
    "# Print the best parameters and the best score\n",
    "print(\"Best Parameters for Bagging Regressor:\", grid_search_bagging.best_params_)\n",
    "print(\"Best Score for Bagging Regressor:\", -grid_search_bagging.best_score_)"
   ]
  },
  {
   "cell_type": "code",
   "execution_count": 144,
   "id": "02a140b1",
   "metadata": {},
   "outputs": [
    {
     "name": "stdout",
     "output_type": "stream",
     "text": [
      "Mean Squared Error (MSE): 0.05550336764705899\n",
      "Root Mean Squared Error (RMSE): 0.2355915271122011\n",
      "R-squared (R2): 0.7364163712446514\n"
     ]
    },
    {
     "data": {
      "image/png": "[encoded data removed]",
      "text/plain": [
       "<Figure size 800x600 with 1 Axes>"
      ]
     },
     "metadata": {},
     "output_type": "display_data"
    }
   ],
   "source": [
    "# Extract the best parameters from the grid search for Bagging Regressor\n",
    "best_params_bagging = grid_search_bagging.best_params_\n",
    "\n",
    "# Initialize the Bagging Regressor with the best parameters\n",
    "tuned_bagging_model = BaggingRegressor(\n",
    "    estimator=base_model,\n",
    "    n_estimators=best_params_bagging['n_estimators'],\n",
    "    max_samples=best_params_bagging['max_samples'],\n",
    "    max_features=best_params_bagging['max_features'],\n",
    "    bootstrap=best_params_bagging['bootstrap'],\n",
    "    bootstrap_features=best_params_bagging['bootstrap_features'],\n",
    "    random_state=42,\n",
    "    n_jobs=-1\n",
    ")\n",
    "\n",
    "\n",
    "# Train the tuned Bagging Regressor\n",
    "training_bagging(tuned_bagging_model, X_train, y_train)"
   ]
  }
 ],
 "metadata": {
  "kernelspec": {
   "display_name": "Python 3",
   "language": "python",
   "name": "python3"
  },
  "language_info": {
   "codemirror_mode": {
    "name": "ipython",
    "version": 3
   },
   "file_extension": ".py",
   "mimetype": "text/x-python",
   "name": "python",
   "nbconvert_exporter": "python",
   "pygments_lexer": "ipython3",
   "version": "3.11.5"
  }
 },
 "nbformat": 4,
 "nbformat_minor": 5
}
